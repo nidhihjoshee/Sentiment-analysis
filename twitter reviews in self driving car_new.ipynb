{
 "cells": [
  {
   "cell_type": "markdown",
   "metadata": {},
   "source": [
    "# Sentiment Analysis on twitter reviews of self driving cars\n",
    "## This is supervised learning model as we have labels of sentiments\n",
    "\n",
    "Fine-grained Sentiment Analysis\n",
    "Sometimes you may be also interested in being more precise about the level of polarity of the opinion, so instead of just talking about positive, neutral, or negative opinions you could consider the following categories:\n",
    "\n",
    "Very positive\n",
    "Positive\n",
    "Neutral\n",
    "Negative\n",
    "Very negative\n",
    "This is usually referred to as fine-grained sentiment analysis. This could be, for example, mapped onto a 5-star rating in a review, e.g.: Very Positive = 5 stars and Very Negative = 1 star."
   ]
  },
  {
   "cell_type": "code",
   "execution_count": 1,
   "metadata": {},
   "outputs": [
    {
     "name": "stderr",
     "output_type": "stream",
     "text": [
      "Using TensorFlow backend.\n"
     ]
    }
   ],
   "source": [
    "# Importing dependencies\n",
    "\n",
    "import pandas as pd\n",
    "import numpy as np\n",
    "import nltk\n",
    "import re\n",
    "import spellings\n",
    "import codecs\n",
    "import unidecode\n",
    "import spacy\n",
    "import matplotlib.pyplot as plt\n",
    "import text_normalizer as tn\n",
    "import model_evaluation_utils as meu\n",
    "import warnings \n",
    "warnings.filterwarnings(\"ignore\")\n",
    "from collections import Counter\n",
    "from wordcloud import WordCloud\n",
    "\n",
    "from sklearn.preprocessing import StandardScaler\n",
    "from spacy.lang.en.stop_words import STOP_WORDS\n",
    "from sklearn.feature_extraction.text import CountVectorizer\n",
    "from sklearn.feature_extraction.text import TfidfVectorizer\n",
    "from sklearn.linear_model import LogisticRegression\n",
    "from imblearn.pipeline import make_pipeline\n",
    "from sklearn.pipeline import Pipeline\n",
    "from imblearn.over_sampling import ADASYN, SMOTE\n",
    "from sklearn.model_selection import StratifiedKFold, cross_val_predict\n",
    "\n",
    "from sklearn.metrics import precision_score, recall_score, f1_score\n",
    "from keras.preprocessing import sequence\n",
    "from sklearn.preprocessing import LabelEncoder\n",
    "from keras.models import Sequential\n",
    "from keras.layers import Dense, Embedding, Dropout, SpatialDropout1D\n",
    "from keras.layers import LSTM\n",
    "from IPython.display import SVG\n",
    "from keras.utils.vis_utils import model_to_dot\n",
    "\n",
    "np.set_printoptions(precision=2, linewidth=80)"
   ]
  },
  {
   "cell_type": "code",
   "execution_count": 2,
   "metadata": {},
   "outputs": [
    {
     "data": {
      "text/html": [
       "<div>\n",
       "<style scoped>\n",
       "    .dataframe tbody tr th:only-of-type {\n",
       "        vertical-align: middle;\n",
       "    }\n",
       "\n",
       "    .dataframe tbody tr th {\n",
       "        vertical-align: top;\n",
       "    }\n",
       "\n",
       "    .dataframe thead th {\n",
       "        text-align: right;\n",
       "    }\n",
       "</style>\n",
       "<table border=\"1\" class=\"dataframe\">\n",
       "  <thead>\n",
       "    <tr style=\"text-align: right;\">\n",
       "      <th></th>\n",
       "      <th>_unit_id</th>\n",
       "      <th>_golden</th>\n",
       "      <th>_unit_state</th>\n",
       "      <th>_trusted_judgments</th>\n",
       "      <th>_last_judgment_at</th>\n",
       "      <th>sentiment</th>\n",
       "      <th>sentiment:confidence</th>\n",
       "      <th>our_id</th>\n",
       "      <th>sentiment_gold</th>\n",
       "      <th>sentiment_gold_reason</th>\n",
       "      <th>...</th>\n",
       "      <th>Unnamed: 11</th>\n",
       "      <th>Unnamed: 12</th>\n",
       "      <th>Unnamed: 13</th>\n",
       "      <th>Unnamed: 14</th>\n",
       "      <th>Unnamed: 15</th>\n",
       "      <th>Unnamed: 16</th>\n",
       "      <th>Unnamed: 17</th>\n",
       "      <th>Unnamed: 18</th>\n",
       "      <th>Unnamed: 19</th>\n",
       "      <th>Unnamed: 20</th>\n",
       "    </tr>\n",
       "  </thead>\n",
       "  <tbody>\n",
       "    <tr>\n",
       "      <td>0</td>\n",
       "      <td>724227031</td>\n",
       "      <td>True</td>\n",
       "      <td>golden</td>\n",
       "      <td>236</td>\n",
       "      <td>NaN</td>\n",
       "      <td>5</td>\n",
       "      <td>0.7579</td>\n",
       "      <td>10001</td>\n",
       "      <td>5\\r4</td>\n",
       "      <td>Author is excited about the development of the...</td>\n",
       "      <td>...</td>\n",
       "      <td>NaN</td>\n",
       "      <td>NaN</td>\n",
       "      <td>NaN</td>\n",
       "      <td>NaN</td>\n",
       "      <td>NaN</td>\n",
       "      <td>NaN</td>\n",
       "      <td>NaN</td>\n",
       "      <td>NaN</td>\n",
       "      <td>NaN</td>\n",
       "      <td>NaN</td>\n",
       "    </tr>\n",
       "    <tr>\n",
       "      <td>1</td>\n",
       "      <td>724227032</td>\n",
       "      <td>True</td>\n",
       "      <td>golden</td>\n",
       "      <td>231</td>\n",
       "      <td>NaN</td>\n",
       "      <td>5</td>\n",
       "      <td>0.8775</td>\n",
       "      <td>10002</td>\n",
       "      <td>5\\r4</td>\n",
       "      <td>Author is excited that driverless cars will be...</td>\n",
       "      <td>...</td>\n",
       "      <td>NaN</td>\n",
       "      <td>NaN</td>\n",
       "      <td>NaN</td>\n",
       "      <td>NaN</td>\n",
       "      <td>NaN</td>\n",
       "      <td>NaN</td>\n",
       "      <td>NaN</td>\n",
       "      <td>NaN</td>\n",
       "      <td>NaN</td>\n",
       "      <td>NaN</td>\n",
       "    </tr>\n",
       "    <tr>\n",
       "      <td>2</td>\n",
       "      <td>724227033</td>\n",
       "      <td>True</td>\n",
       "      <td>golden</td>\n",
       "      <td>233</td>\n",
       "      <td>NaN</td>\n",
       "      <td>2</td>\n",
       "      <td>0.6805</td>\n",
       "      <td>10003</td>\n",
       "      <td>2\\r1</td>\n",
       "      <td>The author is skeptical of the safety and reli...</td>\n",
       "      <td>...</td>\n",
       "      <td>NaN</td>\n",
       "      <td>NaN</td>\n",
       "      <td>NaN</td>\n",
       "      <td>NaN</td>\n",
       "      <td>NaN</td>\n",
       "      <td>NaN</td>\n",
       "      <td>NaN</td>\n",
       "      <td>NaN</td>\n",
       "      <td>NaN</td>\n",
       "      <td>NaN</td>\n",
       "    </tr>\n",
       "    <tr>\n",
       "      <td>3</td>\n",
       "      <td>724227034</td>\n",
       "      <td>True</td>\n",
       "      <td>golden</td>\n",
       "      <td>240</td>\n",
       "      <td>NaN</td>\n",
       "      <td>2</td>\n",
       "      <td>0.8820</td>\n",
       "      <td>10004</td>\n",
       "      <td>2\\r1</td>\n",
       "      <td>The author is skeptical of the project's value.</td>\n",
       "      <td>...</td>\n",
       "      <td>NaN</td>\n",
       "      <td>NaN</td>\n",
       "      <td>NaN</td>\n",
       "      <td>NaN</td>\n",
       "      <td>NaN</td>\n",
       "      <td>NaN</td>\n",
       "      <td>NaN</td>\n",
       "      <td>NaN</td>\n",
       "      <td>NaN</td>\n",
       "      <td>NaN</td>\n",
       "    </tr>\n",
       "    <tr>\n",
       "      <td>4</td>\n",
       "      <td>724227035</td>\n",
       "      <td>True</td>\n",
       "      <td>golden</td>\n",
       "      <td>240</td>\n",
       "      <td>NaN</td>\n",
       "      <td>3</td>\n",
       "      <td>1.0000</td>\n",
       "      <td>10005</td>\n",
       "      <td>3</td>\n",
       "      <td>Author is making an observation without expres...</td>\n",
       "      <td>...</td>\n",
       "      <td>NaN</td>\n",
       "      <td>NaN</td>\n",
       "      <td>NaN</td>\n",
       "      <td>NaN</td>\n",
       "      <td>NaN</td>\n",
       "      <td>NaN</td>\n",
       "      <td>NaN</td>\n",
       "      <td>NaN</td>\n",
       "      <td>NaN</td>\n",
       "      <td>NaN</td>\n",
       "    </tr>\n",
       "  </tbody>\n",
       "</table>\n",
       "<p>5 rows × 21 columns</p>\n",
       "</div>"
      ],
      "text/plain": [
       "    _unit_id  _golden _unit_state  _trusted_judgments _last_judgment_at  \\\n",
       "0  724227031     True      golden                 236               NaN   \n",
       "1  724227032     True      golden                 231               NaN   \n",
       "2  724227033     True      golden                 233               NaN   \n",
       "3  724227034     True      golden                 240               NaN   \n",
       "4  724227035     True      golden                 240               NaN   \n",
       "\n",
       "  sentiment  sentiment:confidence  our_id sentiment_gold  \\\n",
       "0         5                0.7579   10001           5\\r4   \n",
       "1         5                0.8775   10002           5\\r4   \n",
       "2         2                0.6805   10003           2\\r1   \n",
       "3         2                0.8820   10004           2\\r1   \n",
       "4         3                1.0000   10005              3   \n",
       "\n",
       "                               sentiment_gold_reason  ... Unnamed: 11  \\\n",
       "0  Author is excited about the development of the...  ...         NaN   \n",
       "1  Author is excited that driverless cars will be...  ...         NaN   \n",
       "2  The author is skeptical of the safety and reli...  ...         NaN   \n",
       "3    The author is skeptical of the project's value.  ...         NaN   \n",
       "4  Author is making an observation without expres...  ...         NaN   \n",
       "\n",
       "  Unnamed: 12 Unnamed: 13  Unnamed: 14 Unnamed: 15 Unnamed: 16  Unnamed: 17  \\\n",
       "0         NaN         NaN          NaN         NaN         NaN          NaN   \n",
       "1         NaN         NaN          NaN         NaN         NaN          NaN   \n",
       "2         NaN         NaN          NaN         NaN         NaN          NaN   \n",
       "3         NaN         NaN          NaN         NaN         NaN          NaN   \n",
       "4         NaN         NaN          NaN         NaN         NaN          NaN   \n",
       "\n",
       "   Unnamed: 18  Unnamed: 19  Unnamed: 20  \n",
       "0          NaN          NaN          NaN  \n",
       "1          NaN          NaN          NaN  \n",
       "2          NaN          NaN          NaN  \n",
       "3          NaN          NaN          NaN  \n",
       "4          NaN          NaN          NaN  \n",
       "\n",
       "[5 rows x 21 columns]"
      ]
     },
     "execution_count": 2,
     "metadata": {},
     "output_type": "execute_result"
    }
   ],
   "source": [
    "dataset_raw = pd.read_csv(r'Twitter_sentiment_selfdrive_DFE_raw.csv',encoding = \"ISO-8859-1\")\n",
    "dataset_raw.head(5)"
   ]
  },
  {
   "cell_type": "markdown",
   "metadata": {},
   "source": [
    "It seems like we have lot of cleaning work to be done! We should have 11 columns but due to decoding errors and missing commas in csv format, makes it difficult to clean data. I did manual cleaning on csv which took me exactly 2 hours of cleaning to make it better. NOt yet there! we have to clean it more to generate more accuarte model decision making."
   ]
  },
  {
   "cell_type": "code",
   "execution_count": 3,
   "metadata": {},
   "outputs": [
    {
     "data": {
      "text/html": [
       "<div>\n",
       "<style scoped>\n",
       "    .dataframe tbody tr th:only-of-type {\n",
       "        vertical-align: middle;\n",
       "    }\n",
       "\n",
       "    .dataframe tbody tr th {\n",
       "        vertical-align: top;\n",
       "    }\n",
       "\n",
       "    .dataframe thead th {\n",
       "        text-align: right;\n",
       "    }\n",
       "</style>\n",
       "<table border=\"1\" class=\"dataframe\">\n",
       "  <thead>\n",
       "    <tr style=\"text-align: right;\">\n",
       "      <th></th>\n",
       "      <th>_unit_id</th>\n",
       "      <th>_golden</th>\n",
       "      <th>_unit_state</th>\n",
       "      <th>_trusted_judgments</th>\n",
       "      <th>_last_judgment_at</th>\n",
       "      <th>sentiment</th>\n",
       "      <th>sentiment:confidence</th>\n",
       "      <th>our_id</th>\n",
       "      <th>sentiment_gold</th>\n",
       "      <th>sentiment_gold_reason</th>\n",
       "      <th>text</th>\n",
       "    </tr>\n",
       "  </thead>\n",
       "  <tbody>\n",
       "    <tr>\n",
       "      <td>0</td>\n",
       "      <td>724227031</td>\n",
       "      <td>True</td>\n",
       "      <td>golden</td>\n",
       "      <td>236</td>\n",
       "      <td>NaN</td>\n",
       "      <td>positive</td>\n",
       "      <td>0.7579</td>\n",
       "      <td>10001</td>\n",
       "      <td>5\\r4</td>\n",
       "      <td>Author is excited about the development of the...</td>\n",
       "      <td>Two places I'd invest all my money if I could:...</td>\n",
       "    </tr>\n",
       "    <tr>\n",
       "      <td>1</td>\n",
       "      <td>724227032</td>\n",
       "      <td>True</td>\n",
       "      <td>golden</td>\n",
       "      <td>231</td>\n",
       "      <td>NaN</td>\n",
       "      <td>positive</td>\n",
       "      <td>0.8775</td>\n",
       "      <td>10002</td>\n",
       "      <td>5\\r4</td>\n",
       "      <td>Author is excited that driverless cars will be...</td>\n",
       "      <td>Awesome! Google driverless cars will help the ...</td>\n",
       "    </tr>\n",
       "    <tr>\n",
       "      <td>2</td>\n",
       "      <td>724227033</td>\n",
       "      <td>True</td>\n",
       "      <td>golden</td>\n",
       "      <td>233</td>\n",
       "      <td>NaN</td>\n",
       "      <td>negative</td>\n",
       "      <td>0.6805</td>\n",
       "      <td>10003</td>\n",
       "      <td>2\\r1</td>\n",
       "      <td>The author is skeptical of the safety and reli...</td>\n",
       "      <td>If Google maps can't keep up with road constru...</td>\n",
       "    </tr>\n",
       "    <tr>\n",
       "      <td>3</td>\n",
       "      <td>724227034</td>\n",
       "      <td>True</td>\n",
       "      <td>golden</td>\n",
       "      <td>240</td>\n",
       "      <td>NaN</td>\n",
       "      <td>negative</td>\n",
       "      <td>0.8820</td>\n",
       "      <td>10004</td>\n",
       "      <td>2\\r1</td>\n",
       "      <td>The author is skeptical of the project's value.</td>\n",
       "      <td>Autonomous cars seem way overhyped given the t...</td>\n",
       "    </tr>\n",
       "    <tr>\n",
       "      <td>4</td>\n",
       "      <td>724227035</td>\n",
       "      <td>True</td>\n",
       "      <td>golden</td>\n",
       "      <td>240</td>\n",
       "      <td>NaN</td>\n",
       "      <td>neutral</td>\n",
       "      <td>1.0000</td>\n",
       "      <td>10005</td>\n",
       "      <td>3</td>\n",
       "      <td>Author is making an observation without expres...</td>\n",
       "      <td>Just saw Google self-driving car on I-34. It w...</td>\n",
       "    </tr>\n",
       "  </tbody>\n",
       "</table>\n",
       "</div>"
      ],
      "text/plain": [
       "    _unit_id  _golden _unit_state _trusted_judgments _last_judgment_at  \\\n",
       "0  724227031     True      golden                236               NaN   \n",
       "1  724227032     True      golden                231               NaN   \n",
       "2  724227033     True      golden                233               NaN   \n",
       "3  724227034     True      golden                240               NaN   \n",
       "4  724227035     True      golden                240               NaN   \n",
       "\n",
       "  sentiment  sentiment:confidence  our_id sentiment_gold  \\\n",
       "0  positive                0.7579   10001           5\\r4   \n",
       "1  positive                0.8775   10002           5\\r4   \n",
       "2  negative                0.6805   10003           2\\r1   \n",
       "3  negative                0.8820   10004           2\\r1   \n",
       "4   neutral                1.0000   10005              3   \n",
       "\n",
       "                               sentiment_gold_reason  \\\n",
       "0  Author is excited about the development of the...   \n",
       "1  Author is excited that driverless cars will be...   \n",
       "2  The author is skeptical of the safety and reli...   \n",
       "3    The author is skeptical of the project's value.   \n",
       "4  Author is making an observation without expres...   \n",
       "\n",
       "                                                text  \n",
       "0  Two places I'd invest all my money if I could:...  \n",
       "1  Awesome! Google driverless cars will help the ...  \n",
       "2  If Google maps can't keep up with road constru...  \n",
       "3  Autonomous cars seem way overhyped given the t...  \n",
       "4  Just saw Google self-driving car on I-34. It w...  "
      ]
     },
     "execution_count": 3,
     "metadata": {},
     "output_type": "execute_result"
    }
   ],
   "source": [
    "dataset = pd.read_csv(r'Twitter_sentiment_selfdrive_DFE_uns.csv',encoding = \"ISO-8859-1\")\n",
    "reviews = np.array(dataset['text'])\n",
    "dataset.head(5)"
   ]
  },
  {
   "cell_type": "markdown",
   "metadata": {},
   "source": [
    "## Pre-procesing on whole dataset to remove unwanted columns & missing values\n",
    "\n",
    "As we see from above summary that we have many redundant features we need to remove. "
   ]
  },
  {
   "cell_type": "code",
   "execution_count": 4,
   "metadata": {},
   "outputs": [],
   "source": [
    "dataset = dataset.drop(['our_id','_last_judgment_at', '_unit_state'], axis=1)\n",
    "dataset = dataset[~dataset['text'].isnull()]"
   ]
  },
  {
   "cell_type": "markdown",
   "metadata": {},
   "source": [
    "# Data Cleaning\n",
    "Below are the steps I took to clean the tweets:\n",
    "\n",
    "1. Decoding: unicode_escape for extra “\\” before unicode character, then unidecode\n",
    "2. Apostrophe handled: there are two characters people use for contraction. “’”(apostrophe) and “‘“(single quote). If these two symbols are both used for contraction, it will be difficult to detect and properly map the right expanded form. So any “’”(apostrophe) is changed to “‘“(single quote)\n",
    "3. Contraction check: check if there’s any contracted form, and replace it with its original form\n",
    "4. Parsing: done with Spacy\n",
    "5. Filtering punctuation, white space, numbers, URL using Spacy methods while keeping the text content of hashtag intact\n",
    "6. Removed @mention\n",
    "7. Lemmatize: lemmatized each token using Spacy method ‘.lemma_’. Pronouns are kept as they are since Spacy lemmatizer transforms every pronoun to “-PRON-”\n",
    "8. Special character removal\n",
    "9. Single syllable token removal\n",
    "10. Spell correction: it is a simple spell correction dealing with repeated characters such as “sooooo goooood”. If the same character is repeated more than two times, it shortens the repetition to two. For example “sooooo goooood” will be transformed as “soo good”. This is not a perfect solution since even after correction, in case of “soo”, it is not a correct spelling. But at least it will help to reduce feature space by making “sooo”, “soooo”, “sooooo” to the same word “soo”"
   ]
  },
  {
   "cell_type": "code",
   "execution_count": 5,
   "metadata": {},
   "outputs": [],
   "source": [
    "nlp = spacy.load('en_core_web_md')\n",
    "stop_words = nltk.corpus.stopwords.words('english')\n",
    "def spacy_cleaner(text):\n",
    "    try:\n",
    "        decoded = unidecode.unidecode(codecs.decode(text, 'unicode_escape'))\n",
    "    except:\n",
    "        decoded = unidecode.unidecode(text)\n",
    "    apostrophe_handled = re.sub(\"’\", \"'\", decoded)\n",
    "    expanded = ' '.join([spellings.contraction_mapping[t] if t in spellings.contraction_mapping else t for t in apostrophe_handled.split(\" \")])\n",
    "    parsed = nlp(expanded)\n",
    "    final_tokens = []\n",
    "    for t in parsed:\n",
    "      \n",
    "        if t.is_punct or t.is_space or t.like_num or t.like_url or str(t).startswith('@'):\n",
    "            pass\n",
    "        else:\n",
    "            if t.lemma_ == '-PRON-':\n",
    "                final_tokens.append(str(t))\n",
    "            else:\n",
    "                sc_removed = re.sub(\"[^a-zA-Z]\", '', str(t.lemma_))\n",
    "                if len(sc_removed) > 1:\n",
    "                    if sc_removed in stop_words:\n",
    "                        pass\n",
    "                    else:\n",
    "                        final_tokens.append(sc_removed)\n",
    "    joined = ' '.join(final_tokens)\n",
    "    spell_corrected = re.sub(r'(.)\\1+', r'\\1\\1', joined)\n",
    "    return spell_corrected\n"
   ]
  },
  {
   "cell_type": "markdown",
   "metadata": {},
   "source": [
    "## Applying above cleaner & saving cleaned text as new column\n",
    "\n",
    "First we clean the data to eliminate unwanted characters, spaces, urls and stuff"
   ]
  },
  {
   "cell_type": "code",
   "execution_count": 6,
   "metadata": {},
   "outputs": [],
   "source": [
    "dataset['clean_text'] = [spacy_cleaner(t) for t in dataset.text]"
   ]
  },
  {
   "cell_type": "markdown",
   "metadata": {},
   "source": [
    "## Data Exploration\n",
    "\n",
    "We need to visualize data to make judgement on feature engineering techniques to use and do we need feature selection or do we need to balance data, which model best fits our data and how we can get better performance of prediction model. Do we need deep learning?"
   ]
  },
  {
   "cell_type": "code",
   "execution_count": 7,
   "metadata": {},
   "outputs": [
    {
     "data": {
      "text/html": [
       "<div>\n",
       "<style scoped>\n",
       "    .dataframe tbody tr th:only-of-type {\n",
       "        vertical-align: middle;\n",
       "    }\n",
       "\n",
       "    .dataframe tbody tr th {\n",
       "        vertical-align: top;\n",
       "    }\n",
       "\n",
       "    .dataframe thead th {\n",
       "        text-align: right;\n",
       "    }\n",
       "</style>\n",
       "<table border=\"1\" class=\"dataframe\">\n",
       "  <thead>\n",
       "    <tr style=\"text-align: right;\">\n",
       "      <th></th>\n",
       "      <th>count</th>\n",
       "      <th>mean</th>\n",
       "      <th>std</th>\n",
       "      <th>min</th>\n",
       "      <th>25%</th>\n",
       "      <th>50%</th>\n",
       "      <th>75%</th>\n",
       "      <th>max</th>\n",
       "    </tr>\n",
       "  </thead>\n",
       "  <tbody>\n",
       "    <tr>\n",
       "      <td>sentiment:confidence</td>\n",
       "      <td>6947.0</td>\n",
       "      <td>0.777805</td>\n",
       "      <td>0.204332</td>\n",
       "      <td>0.248</td>\n",
       "      <td>0.63275</td>\n",
       "      <td>0.7536</td>\n",
       "      <td>1.0</td>\n",
       "      <td>1.0</td>\n",
       "    </tr>\n",
       "  </tbody>\n",
       "</table>\n",
       "</div>"
      ],
      "text/plain": [
       "                       count      mean       std    min      25%     50%  75%  \\\n",
       "sentiment:confidence  6947.0  0.777805  0.204332  0.248  0.63275  0.7536  1.0   \n",
       "\n",
       "                      max  \n",
       "sentiment:confidence  1.0  "
      ]
     },
     "execution_count": 7,
     "metadata": {},
     "output_type": "execute_result"
    }
   ],
   "source": [
    "# Describe Numeric columns\n",
    "dataset.describe().transpose()"
   ]
  },
  {
   "cell_type": "markdown",
   "metadata": {},
   "source": [
    "By applying nunique we would have idea of how many sentiments do we have. In most sentiment analysis, positive, negative and neutral are the sentiments. However, for our data we are dealing with fine-grain sentiment analysis as we have 5 sentiments and not revelent which can also be considered sentiment. So we have 6 sentiments."
   ]
  },
  {
   "cell_type": "code",
   "execution_count": 8,
   "metadata": {},
   "outputs": [
    {
     "data": {
      "text/plain": [
       "3"
      ]
     },
     "execution_count": 8,
     "metadata": {},
     "output_type": "execute_result"
    }
   ],
   "source": [
    "# Describing categorical columns\n",
    "dataset['sentiment'].nunique()"
   ]
  },
  {
   "cell_type": "code",
   "execution_count": 9,
   "metadata": {},
   "outputs": [],
   "source": [
    "# plt.figure(figsize = (20, 12))\n",
    "# cplt.scatter(dataset[sentiments == 'positive'], c = 'g', label = 'Positive Sentiments')\n",
    "#plt.scatter(dataset[sentiments == 'negative'], c = 'r', label = 'Negative Sentiments')\n",
    "#plt.scatter(dataset[sentiments == 'neutral'], c = 'b', label = 'Neutral Sentiments')\n",
    "#plt.xlabel('Sentiments', fontsize = 16)\n",
    "#plt.ylabel('features', fontsize = 16)\n",
    "#plt.title('Plot between Experience and Age', fontsize = 16)\n",
    "#plt.legend(fontsize = 16)"
   ]
  },
  {
   "cell_type": "markdown",
   "metadata": {},
   "source": [
    "## Is our dataset balanced??\n",
    "\n",
    "Lets check by grouping rows by sentiment.\n",
    "After executing this cell, we got that our dataset is imbalanced maximum sentiments are rated 3.\n",
    "\n",
    "So This data is imbalanced data. We will over sample data using SMOTE technique after exploration."
   ]
  },
  {
   "cell_type": "code",
   "execution_count": 10,
   "metadata": {},
   "outputs": [
    {
     "data": {
      "text/plain": [
       "<matplotlib.axes._subplots.AxesSubplot at 0x217f68bfac8>"
      ]
     },
     "execution_count": 10,
     "metadata": {},
     "output_type": "execute_result"
    },
    {
     "data": {
      "image/png": "[encoded data removed]",
      "text/plain": [
       "<Figure size 432x288 with 1 Axes>"
      ]
     },
     "metadata": {
      "needs_background": "light"
     },
     "output_type": "display_data"
    }
   ],
   "source": [
    "dataset['sentiment'].value_counts().plot.bar()"
   ]
  },
  {
   "cell_type": "code",
   "execution_count": 11,
   "metadata": {},
   "outputs": [
    {
     "name": "stdout",
     "output_type": "stream",
     "text": [
      "<class 'pandas.core.frame.DataFrame'>\n",
      "Int64Index: 6947 entries, 0 to 6946\n",
      "Data columns (total 9 columns):\n",
      "_unit_id                 6947 non-null object\n",
      "_golden                  6947 non-null bool\n",
      "_trusted_judgments       6947 non-null object\n",
      "sentiment                6947 non-null object\n",
      "sentiment:confidence     6947 non-null float64\n",
      "sentiment_gold           66 non-null object\n",
      "sentiment_gold_reason    66 non-null object\n",
      "text                     6947 non-null object\n",
      "clean_text               6947 non-null object\n",
      "dtypes: bool(1), float64(1), object(7)\n",
      "memory usage: 3.9 MB\n"
     ]
    }
   ],
   "source": [
    "# size info, including memory consumption\n",
    "dataset.info(memory_usage='deep')"
   ]
  },
  {
   "cell_type": "markdown",
   "metadata": {},
   "source": [
    "## Know important words from dataset"
   ]
  },
  {
   "cell_type": "code",
   "execution_count": 12,
   "metadata": {},
   "outputs": [
    {
     "data": {
      "text/plain": [
       "[('car', 6766),\n",
       " ('drive', 4253),\n",
       " ('self', 4033),\n",
       " ('google', 2933),\n",
       " ('driverless', 1896),\n",
       " ('i', 1509),\n",
       " ('it', 797),\n",
       " ('you', 593),\n",
       " ('see', 583),\n",
       " ('we', 496),\n",
       " ('my', 436),\n",
       " ('get', 416),\n",
       " ('autonomous', 399),\n",
       " ('driving', 382),\n",
       " ('vehicle', 352),\n",
       " ('go', 334),\n",
       " ('future', 327),\n",
       " ('driver', 317),\n",
       " ('would', 297),\n",
       " ('make', 292)]"
      ]
     },
     "execution_count": 12,
     "metadata": {},
     "output_type": "execute_result"
    }
   ],
   "source": [
    "def my_tokenizer(clean_text):\n",
    "    clean_text = re.sub(r'[^a-zA-Z\\s]', '', clean_text, re.I|re.A)\n",
    "    clean_text = clean_text.lower()\n",
    "    return clean_text.split() if clean_text != None else []\n",
    "\n",
    "# transform list of documents into a single list of tokens\n",
    "tokens = dataset.clean_text.map(my_tokenizer).sum()\n",
    "counter = Counter(tokens)\n",
    "dataset['text_token'] = [my_tokenizer(t) for t in dataset.clean_text]\n",
    "counter.most_common(20)"
   ]
  },
  {
   "cell_type": "code",
   "execution_count": 13,
   "metadata": {},
   "outputs": [
    {
     "data": {
      "text/html": [
       "<div>\n",
       "<style scoped>\n",
       "    .dataframe tbody tr th:only-of-type {\n",
       "        vertical-align: middle;\n",
       "    }\n",
       "\n",
       "    .dataframe tbody tr th {\n",
       "        vertical-align: top;\n",
       "    }\n",
       "\n",
       "    .dataframe thead th {\n",
       "        text-align: right;\n",
       "    }\n",
       "</style>\n",
       "<table border=\"1\" class=\"dataframe\">\n",
       "  <thead>\n",
       "    <tr style=\"text-align: right;\">\n",
       "      <th></th>\n",
       "      <th>_unit_id</th>\n",
       "      <th>_golden</th>\n",
       "      <th>_trusted_judgments</th>\n",
       "      <th>sentiment</th>\n",
       "      <th>sentiment:confidence</th>\n",
       "      <th>sentiment_gold</th>\n",
       "      <th>sentiment_gold_reason</th>\n",
       "      <th>text</th>\n",
       "      <th>clean_text</th>\n",
       "      <th>text_token</th>\n",
       "    </tr>\n",
       "  </thead>\n",
       "  <tbody>\n",
       "    <tr>\n",
       "      <td>0</td>\n",
       "      <td>724227031</td>\n",
       "      <td>True</td>\n",
       "      <td>236</td>\n",
       "      <td>positive</td>\n",
       "      <td>0.7579</td>\n",
       "      <td>5\\r4</td>\n",
       "      <td>Author is excited about the development of the...</td>\n",
       "      <td>Two places I'd invest all my money if I could:...</td>\n",
       "      <td>place I would invest my money I could printing...</td>\n",
       "      <td>[place, i, would, invest, my, money, i, could,...</td>\n",
       "    </tr>\n",
       "    <tr>\n",
       "      <td>1</td>\n",
       "      <td>724227032</td>\n",
       "      <td>True</td>\n",
       "      <td>231</td>\n",
       "      <td>positive</td>\n",
       "      <td>0.8775</td>\n",
       "      <td>5\\r4</td>\n",
       "      <td>Author is excited that driverless cars will be...</td>\n",
       "      <td>Awesome! Google driverless cars will help the ...</td>\n",
       "      <td>awesome Google driverless car help blind trave...</td>\n",
       "      <td>[awesome, google, driverless, car, help, blind...</td>\n",
       "    </tr>\n",
       "    <tr>\n",
       "      <td>2</td>\n",
       "      <td>724227033</td>\n",
       "      <td>True</td>\n",
       "      <td>233</td>\n",
       "      <td>negative</td>\n",
       "      <td>0.6805</td>\n",
       "      <td>2\\r1</td>\n",
       "      <td>The author is skeptical of the safety and reli...</td>\n",
       "      <td>If Google maps can't keep up with road constru...</td>\n",
       "      <td>Google map keep road construction I suppose tr...</td>\n",
       "      <td>[google, map, keep, road, construction, i, sup...</td>\n",
       "    </tr>\n",
       "    <tr>\n",
       "      <td>3</td>\n",
       "      <td>724227034</td>\n",
       "      <td>True</td>\n",
       "      <td>240</td>\n",
       "      <td>negative</td>\n",
       "      <td>0.8820</td>\n",
       "      <td>2\\r1</td>\n",
       "      <td>The author is skeptical of the project's value.</td>\n",
       "      <td>Autonomous cars seem way overhyped given the t...</td>\n",
       "      <td>autonomous car seem way overhype give technolo...</td>\n",
       "      <td>[autonomous, car, seem, way, overhype, give, t...</td>\n",
       "    </tr>\n",
       "    <tr>\n",
       "      <td>4</td>\n",
       "      <td>724227035</td>\n",
       "      <td>True</td>\n",
       "      <td>240</td>\n",
       "      <td>neutral</td>\n",
       "      <td>1.0000</td>\n",
       "      <td>3</td>\n",
       "      <td>Author is making an observation without expres...</td>\n",
       "      <td>Just saw Google self-driving car on I-34. It w...</td>\n",
       "      <td>see Google self drive car It paint green blue</td>\n",
       "      <td>[see, google, self, drive, car, it, paint, gre...</td>\n",
       "    </tr>\n",
       "  </tbody>\n",
       "</table>\n",
       "</div>"
      ],
      "text/plain": [
       "    _unit_id  _golden _trusted_judgments sentiment  sentiment:confidence  \\\n",
       "0  724227031     True                236  positive                0.7579   \n",
       "1  724227032     True                231  positive                0.8775   \n",
       "2  724227033     True                233  negative                0.6805   \n",
       "3  724227034     True                240  negative                0.8820   \n",
       "4  724227035     True                240   neutral                1.0000   \n",
       "\n",
       "  sentiment_gold                              sentiment_gold_reason  \\\n",
       "0           5\\r4  Author is excited about the development of the...   \n",
       "1           5\\r4  Author is excited that driverless cars will be...   \n",
       "2           2\\r1  The author is skeptical of the safety and reli...   \n",
       "3           2\\r1    The author is skeptical of the project's value.   \n",
       "4              3  Author is making an observation without expres...   \n",
       "\n",
       "                                                text  \\\n",
       "0  Two places I'd invest all my money if I could:...   \n",
       "1  Awesome! Google driverless cars will help the ...   \n",
       "2  If Google maps can't keep up with road constru...   \n",
       "3  Autonomous cars seem way overhyped given the t...   \n",
       "4  Just saw Google self-driving car on I-34. It w...   \n",
       "\n",
       "                                          clean_text  \\\n",
       "0  place I would invest my money I could printing...   \n",
       "1  awesome Google driverless car help blind trave...   \n",
       "2  Google map keep road construction I suppose tr...   \n",
       "3  autonomous car seem way overhype give technolo...   \n",
       "4      see Google self drive car It paint green blue   \n",
       "\n",
       "                                          text_token  \n",
       "0  [place, i, would, invest, my, money, i, could,...  \n",
       "1  [awesome, google, driverless, car, help, blind...  \n",
       "2  [google, map, keep, road, construction, i, sup...  \n",
       "3  [autonomous, car, seem, way, overhype, give, t...  \n",
       "4  [see, google, self, drive, car, it, paint, gre...  "
      ]
     },
     "execution_count": 13,
     "metadata": {},
     "output_type": "execute_result"
    }
   ],
   "source": [
    "dataset.head(5)"
   ]
  },
  {
   "cell_type": "markdown",
   "metadata": {},
   "source": [
    "We created a new column named text_token which contains text in form of list of words, later during feature engineering, we will use this column to deploy word2vec or bag of words model"
   ]
  },
  {
   "cell_type": "markdown",
   "metadata": {},
   "source": [
    "## Generate frequency dataframe\n",
    "After cleaning data little bit & tokenizing, we generate frequency dataframe to see which words affect our model the most."
   ]
  },
  {
   "cell_type": "code",
   "execution_count": 14,
   "metadata": {},
   "outputs": [
    {
     "data": {
      "image/png": "[encoded data removed]",
      "text/plain": [
       "<Figure size 432x288 with 1 Axes>"
      ]
     },
     "metadata": {
      "needs_background": "light"
     },
     "output_type": "display_data"
    }
   ],
   "source": [
    "# convert list of tuples into data frame\n",
    "\n",
    "freq_df = pd.DataFrame.from_records(counter.most_common(20),\n",
    "                                    columns=['token', 'count'])\n",
    "# create bar plot\n",
    "freq_df.plot(kind='bar', x='token');"
   ]
  },
  {
   "cell_type": "code",
   "execution_count": 15,
   "metadata": {},
   "outputs": [],
   "source": [
    "def wordcloud(counter):\n",
    "    \"\"\"A small wordloud wrapper\"\"\"\n",
    "    wc = WordCloud(width=1200, height=800, \n",
    "                   background_color=\"white\", \n",
    "                   max_words=200) \n",
    "    wc.generate_from_frequencies(counter)\n",
    "\n",
    "    # Plot\n",
    "    fig=plt.figure(figsize=(6, 4))\n",
    "    plt.imshow(wc, interpolation='bilinear')\n",
    "    plt.axis(\"off\")\n",
    "    plt.tight_layout(pad=0)\n",
    "    plt.show()"
   ]
  },
  {
   "cell_type": "code",
   "execution_count": 16,
   "metadata": {},
   "outputs": [
    {
     "data": {
      "image/png": "[encoded data removed]",
      "text/plain": [
       "<Figure size 432x288 with 1 Axes>"
      ]
     },
     "metadata": {
      "needs_background": "light"
     },
     "output_type": "display_data"
    }
   ],
   "source": [
    "# create wordcloud\n",
    "wordcloud(counter)"
   ]
  },
  {
   "cell_type": "markdown",
   "metadata": {},
   "source": []
  },
  {
   "cell_type": "markdown",
   "metadata": {},
   "source": [
    "## Split data into test & train\n",
    "\n",
    "We have to split data into test/train before we apply feature engineering and normalize it."
   ]
  },
  {
   "cell_type": "code",
   "execution_count": 17,
   "metadata": {},
   "outputs": [],
   "source": [
    "# take a peek at the data\n",
    "reviews = np.array(dataset['clean_text'])\n",
    "sentiments = np.array(dataset['sentiment'])\n",
    "\n",
    "# build train and test datasets\n",
    "train_reviews = reviews[:5800]\n",
    "train_sentiments = sentiments[:5800]\n",
    "test_reviews = reviews[5800:]\n",
    "test_sentiments = sentiments[5800:]\n",
    "\n"
   ]
  },
  {
   "cell_type": "code",
   "execution_count": 18,
   "metadata": {},
   "outputs": [],
   "source": [
    "# normalize datasets\n",
    "norm_train_reviews = tn.normalize_corpus(train_reviews)\n",
    "norm_test_reviews = tn.normalize_corpus(test_reviews)\n",
    "norm_full_reviews = tn.normalize_corpus(reviews)"
   ]
  },
  {
   "cell_type": "markdown",
   "metadata": {},
   "source": [
    "Now we have data tokenized and normalized! We can perform feature engineering on top of it get model better."
   ]
  },
  {
   "cell_type": "markdown",
   "metadata": {},
   "source": [
    "## Feature Engineering \n",
    "\n",
    "\n",
    "You may still consider to use BoW rather than Word Embedding in the following situations:\n",
    "Building a baseline model. By using scikit-learn, there is just a few lines of code to build model. Later on, can using Deep Learning to bit it.\n",
    "If your dataset is small and context is domain specific, BoW may work better than Word Embedding. Context is very domain specific which means that you cannot find corresponding Vector from pre-trained word embedding models (GloVe, fastText etc).\n",
    "\n",
    "Word2vec is a group of related models that are used to produce word embeddings. These models are shallow, two-layer neural networks that are trained to reconstruct linguistic contexts of words. Word2vec takes as its input a large corpus of text and produces a vector space, typically of several hundred dimensions, with each unique word in the corpus being assigned a corresponding vector in the space. Word vectors are positioned in the vector space such that words that share common contexts in the corpus are located close to one another in the space."
   ]
  },
  {
   "cell_type": "code",
   "execution_count": 19,
   "metadata": {},
   "outputs": [],
   "source": [
    "\n",
    "\n",
    "\n",
    "\n",
    "from sklearn.feature_extraction.text import CountVectorizer, TfidfVectorizer\n",
    "\n",
    "# build BOW features on train reviews\n",
    "cv = CountVectorizer(binary=False, min_df=0.0, max_df=1.0, ngram_range=(1,2))\n",
    "cv_train_features = cv.fit_transform(norm_train_reviews)\n",
    "# build TFIDF features on train reviews\n",
    "tv = TfidfVectorizer(use_idf=True, min_df=0.0, max_df=1.0, ngram_range=(1,2), sublinear_tf=True)\n",
    "tv_train_features = tv.fit_transform(norm_train_reviews)"
   ]
  },
  {
   "cell_type": "code",
   "execution_count": 20,
   "metadata": {},
   "outputs": [
    {
     "data": {
      "text/html": [
       "<div>\n",
       "<style scoped>\n",
       "    .dataframe tbody tr th:only-of-type {\n",
       "        vertical-align: middle;\n",
       "    }\n",
       "\n",
       "    .dataframe tbody tr th {\n",
       "        vertical-align: top;\n",
       "    }\n",
       "\n",
       "    .dataframe thead th {\n",
       "        text-align: right;\n",
       "    }\n",
       "</style>\n",
       "<table border=\"1\" class=\"dataframe\">\n",
       "  <thead>\n",
       "    <tr style=\"text-align: right;\">\n",
       "      <th></th>\n",
       "      <th>0</th>\n",
       "      <th>1</th>\n",
       "      <th>2</th>\n",
       "      <th>3</th>\n",
       "      <th>4</th>\n",
       "      <th>5</th>\n",
       "      <th>6</th>\n",
       "      <th>7</th>\n",
       "      <th>8</th>\n",
       "      <th>9</th>\n",
       "      <th>...</th>\n",
       "      <th>5790</th>\n",
       "      <th>5791</th>\n",
       "      <th>5792</th>\n",
       "      <th>5793</th>\n",
       "      <th>5794</th>\n",
       "      <th>5795</th>\n",
       "      <th>5796</th>\n",
       "      <th>5797</th>\n",
       "      <th>5798</th>\n",
       "      <th>5799</th>\n",
       "    </tr>\n",
       "  </thead>\n",
       "  <tbody>\n",
       "    <tr>\n",
       "      <td>0</td>\n",
       "      <td>1.000000</td>\n",
       "      <td>0.001792</td>\n",
       "      <td>0.001550</td>\n",
       "      <td>0.001197</td>\n",
       "      <td>0.020826</td>\n",
       "      <td>0.002036</td>\n",
       "      <td>0.032735</td>\n",
       "      <td>0.001407</td>\n",
       "      <td>0.002248</td>\n",
       "      <td>0.000000</td>\n",
       "      <td>...</td>\n",
       "      <td>0.016203</td>\n",
       "      <td>0.027492</td>\n",
       "      <td>0.018796</td>\n",
       "      <td>0.014515</td>\n",
       "      <td>0.014549</td>\n",
       "      <td>0.014549</td>\n",
       "      <td>0.015165</td>\n",
       "      <td>0.014711</td>\n",
       "      <td>0.031539</td>\n",
       "      <td>0.026525</td>\n",
       "    </tr>\n",
       "    <tr>\n",
       "      <td>1</td>\n",
       "      <td>0.001792</td>\n",
       "      <td>1.000000</td>\n",
       "      <td>0.020441</td>\n",
       "      <td>0.001266</td>\n",
       "      <td>0.008340</td>\n",
       "      <td>0.020679</td>\n",
       "      <td>0.000000</td>\n",
       "      <td>0.014291</td>\n",
       "      <td>0.022832</td>\n",
       "      <td>0.000000</td>\n",
       "      <td>...</td>\n",
       "      <td>0.002663</td>\n",
       "      <td>0.002850</td>\n",
       "      <td>0.003089</td>\n",
       "      <td>0.001505</td>\n",
       "      <td>0.001508</td>\n",
       "      <td>0.001508</td>\n",
       "      <td>0.108065</td>\n",
       "      <td>0.001525</td>\n",
       "      <td>0.003270</td>\n",
       "      <td>0.007350</td>\n",
       "    </tr>\n",
       "    <tr>\n",
       "      <td>2</td>\n",
       "      <td>0.001550</td>\n",
       "      <td>0.020441</td>\n",
       "      <td>1.000000</td>\n",
       "      <td>0.001095</td>\n",
       "      <td>0.007213</td>\n",
       "      <td>0.017886</td>\n",
       "      <td>0.000000</td>\n",
       "      <td>0.012360</td>\n",
       "      <td>0.019748</td>\n",
       "      <td>0.013977</td>\n",
       "      <td>...</td>\n",
       "      <td>0.002303</td>\n",
       "      <td>0.032620</td>\n",
       "      <td>0.002672</td>\n",
       "      <td>0.021224</td>\n",
       "      <td>0.001305</td>\n",
       "      <td>0.001305</td>\n",
       "      <td>0.055541</td>\n",
       "      <td>0.001319</td>\n",
       "      <td>0.002828</td>\n",
       "      <td>0.006357</td>\n",
       "    </tr>\n",
       "    <tr>\n",
       "      <td>3</td>\n",
       "      <td>0.001197</td>\n",
       "      <td>0.001266</td>\n",
       "      <td>0.001095</td>\n",
       "      <td>1.000000</td>\n",
       "      <td>0.001442</td>\n",
       "      <td>0.001438</td>\n",
       "      <td>0.018830</td>\n",
       "      <td>0.000994</td>\n",
       "      <td>0.001587</td>\n",
       "      <td>0.000000</td>\n",
       "      <td>...</td>\n",
       "      <td>0.001779</td>\n",
       "      <td>0.001903</td>\n",
       "      <td>0.002063</td>\n",
       "      <td>0.001005</td>\n",
       "      <td>0.001007</td>\n",
       "      <td>0.001007</td>\n",
       "      <td>0.001050</td>\n",
       "      <td>0.020711</td>\n",
       "      <td>0.002184</td>\n",
       "      <td>0.001271</td>\n",
       "    </tr>\n",
       "    <tr>\n",
       "      <td>4</td>\n",
       "      <td>0.020826</td>\n",
       "      <td>0.008340</td>\n",
       "      <td>0.007213</td>\n",
       "      <td>0.001442</td>\n",
       "      <td>1.000000</td>\n",
       "      <td>0.002452</td>\n",
       "      <td>0.000000</td>\n",
       "      <td>0.001695</td>\n",
       "      <td>0.002707</td>\n",
       "      <td>0.000000</td>\n",
       "      <td>...</td>\n",
       "      <td>0.036809</td>\n",
       "      <td>0.033114</td>\n",
       "      <td>0.022639</td>\n",
       "      <td>0.017483</td>\n",
       "      <td>0.017524</td>\n",
       "      <td>0.017524</td>\n",
       "      <td>0.036792</td>\n",
       "      <td>0.017719</td>\n",
       "      <td>0.037988</td>\n",
       "      <td>0.054370</td>\n",
       "    </tr>\n",
       "    <tr>\n",
       "      <td>...</td>\n",
       "      <td>...</td>\n",
       "      <td>...</td>\n",
       "      <td>...</td>\n",
       "      <td>...</td>\n",
       "      <td>...</td>\n",
       "      <td>...</td>\n",
       "      <td>...</td>\n",
       "      <td>...</td>\n",
       "      <td>...</td>\n",
       "      <td>...</td>\n",
       "      <td>...</td>\n",
       "      <td>...</td>\n",
       "      <td>...</td>\n",
       "      <td>...</td>\n",
       "      <td>...</td>\n",
       "      <td>...</td>\n",
       "      <td>...</td>\n",
       "      <td>...</td>\n",
       "      <td>...</td>\n",
       "      <td>...</td>\n",
       "      <td>...</td>\n",
       "    </tr>\n",
       "    <tr>\n",
       "      <td>5795</td>\n",
       "      <td>0.014549</td>\n",
       "      <td>0.001508</td>\n",
       "      <td>0.001305</td>\n",
       "      <td>0.001007</td>\n",
       "      <td>0.017524</td>\n",
       "      <td>0.001713</td>\n",
       "      <td>0.000000</td>\n",
       "      <td>0.001184</td>\n",
       "      <td>0.036023</td>\n",
       "      <td>0.018282</td>\n",
       "      <td>...</td>\n",
       "      <td>0.013634</td>\n",
       "      <td>0.023134</td>\n",
       "      <td>0.015816</td>\n",
       "      <td>0.012214</td>\n",
       "      <td>1.000000</td>\n",
       "      <td>1.000000</td>\n",
       "      <td>0.012761</td>\n",
       "      <td>0.012379</td>\n",
       "      <td>0.026539</td>\n",
       "      <td>0.049644</td>\n",
       "    </tr>\n",
       "    <tr>\n",
       "      <td>5796</td>\n",
       "      <td>0.015165</td>\n",
       "      <td>0.108065</td>\n",
       "      <td>0.055541</td>\n",
       "      <td>0.001050</td>\n",
       "      <td>0.036792</td>\n",
       "      <td>0.001786</td>\n",
       "      <td>0.000000</td>\n",
       "      <td>0.001234</td>\n",
       "      <td>0.001971</td>\n",
       "      <td>0.013404</td>\n",
       "      <td>...</td>\n",
       "      <td>0.014211</td>\n",
       "      <td>0.053031</td>\n",
       "      <td>0.016486</td>\n",
       "      <td>0.012731</td>\n",
       "      <td>0.012761</td>\n",
       "      <td>0.012761</td>\n",
       "      <td>1.000000</td>\n",
       "      <td>0.012902</td>\n",
       "      <td>0.027663</td>\n",
       "      <td>0.039592</td>\n",
       "    </tr>\n",
       "    <tr>\n",
       "      <td>5797</td>\n",
       "      <td>0.014711</td>\n",
       "      <td>0.001525</td>\n",
       "      <td>0.001319</td>\n",
       "      <td>0.020711</td>\n",
       "      <td>0.017719</td>\n",
       "      <td>0.001732</td>\n",
       "      <td>0.000000</td>\n",
       "      <td>0.001197</td>\n",
       "      <td>0.001912</td>\n",
       "      <td>0.000000</td>\n",
       "      <td>...</td>\n",
       "      <td>0.013785</td>\n",
       "      <td>0.023390</td>\n",
       "      <td>0.038219</td>\n",
       "      <td>0.012349</td>\n",
       "      <td>0.012379</td>\n",
       "      <td>0.012379</td>\n",
       "      <td>0.012902</td>\n",
       "      <td>1.000000</td>\n",
       "      <td>0.026833</td>\n",
       "      <td>0.022567</td>\n",
       "    </tr>\n",
       "    <tr>\n",
       "      <td>5798</td>\n",
       "      <td>0.031539</td>\n",
       "      <td>0.003270</td>\n",
       "      <td>0.002828</td>\n",
       "      <td>0.002184</td>\n",
       "      <td>0.037988</td>\n",
       "      <td>0.003713</td>\n",
       "      <td>0.000000</td>\n",
       "      <td>0.002566</td>\n",
       "      <td>0.004100</td>\n",
       "      <td>0.000000</td>\n",
       "      <td>...</td>\n",
       "      <td>0.077268</td>\n",
       "      <td>0.050148</td>\n",
       "      <td>0.034285</td>\n",
       "      <td>0.026477</td>\n",
       "      <td>0.026539</td>\n",
       "      <td>0.026539</td>\n",
       "      <td>0.027663</td>\n",
       "      <td>0.026833</td>\n",
       "      <td>1.000000</td>\n",
       "      <td>0.048383</td>\n",
       "    </tr>\n",
       "    <tr>\n",
       "      <td>5799</td>\n",
       "      <td>0.026525</td>\n",
       "      <td>0.007350</td>\n",
       "      <td>0.006357</td>\n",
       "      <td>0.001271</td>\n",
       "      <td>0.054370</td>\n",
       "      <td>0.002161</td>\n",
       "      <td>0.000000</td>\n",
       "      <td>0.001493</td>\n",
       "      <td>0.045444</td>\n",
       "      <td>0.040166</td>\n",
       "      <td>...</td>\n",
       "      <td>0.024369</td>\n",
       "      <td>0.042175</td>\n",
       "      <td>0.028269</td>\n",
       "      <td>0.022267</td>\n",
       "      <td>0.049644</td>\n",
       "      <td>0.049644</td>\n",
       "      <td>0.039592</td>\n",
       "      <td>0.022567</td>\n",
       "      <td>0.048383</td>\n",
       "      <td>1.000000</td>\n",
       "    </tr>\n",
       "  </tbody>\n",
       "</table>\n",
       "<p>5800 rows × 5800 columns</p>\n",
       "</div>"
      ],
      "text/plain": [
       "          0         1         2         3         4         5         6     \\\n",
       "0     1.000000  0.001792  0.001550  0.001197  0.020826  0.002036  0.032735   \n",
       "1     0.001792  1.000000  0.020441  0.001266  0.008340  0.020679  0.000000   \n",
       "2     0.001550  0.020441  1.000000  0.001095  0.007213  0.017886  0.000000   \n",
       "3     0.001197  0.001266  0.001095  1.000000  0.001442  0.001438  0.018830   \n",
       "4     0.020826  0.008340  0.007213  0.001442  1.000000  0.002452  0.000000   \n",
       "...        ...       ...       ...       ...       ...       ...       ...   \n",
       "5795  0.014549  0.001508  0.001305  0.001007  0.017524  0.001713  0.000000   \n",
       "5796  0.015165  0.108065  0.055541  0.001050  0.036792  0.001786  0.000000   \n",
       "5797  0.014711  0.001525  0.001319  0.020711  0.017719  0.001732  0.000000   \n",
       "5798  0.031539  0.003270  0.002828  0.002184  0.037988  0.003713  0.000000   \n",
       "5799  0.026525  0.007350  0.006357  0.001271  0.054370  0.002161  0.000000   \n",
       "\n",
       "          7         8         9     ...      5790      5791      5792  \\\n",
       "0     0.001407  0.002248  0.000000  ...  0.016203  0.027492  0.018796   \n",
       "1     0.014291  0.022832  0.000000  ...  0.002663  0.002850  0.003089   \n",
       "2     0.012360  0.019748  0.013977  ...  0.002303  0.032620  0.002672   \n",
       "3     0.000994  0.001587  0.000000  ...  0.001779  0.001903  0.002063   \n",
       "4     0.001695  0.002707  0.000000  ...  0.036809  0.033114  0.022639   \n",
       "...        ...       ...       ...  ...       ...       ...       ...   \n",
       "5795  0.001184  0.036023  0.018282  ...  0.013634  0.023134  0.015816   \n",
       "5796  0.001234  0.001971  0.013404  ...  0.014211  0.053031  0.016486   \n",
       "5797  0.001197  0.001912  0.000000  ...  0.013785  0.023390  0.038219   \n",
       "5798  0.002566  0.004100  0.000000  ...  0.077268  0.050148  0.034285   \n",
       "5799  0.001493  0.045444  0.040166  ...  0.024369  0.042175  0.028269   \n",
       "\n",
       "          5793      5794      5795      5796      5797      5798      5799  \n",
       "0     0.014515  0.014549  0.014549  0.015165  0.014711  0.031539  0.026525  \n",
       "1     0.001505  0.001508  0.001508  0.108065  0.001525  0.003270  0.007350  \n",
       "2     0.021224  0.001305  0.001305  0.055541  0.001319  0.002828  0.006357  \n",
       "3     0.001005  0.001007  0.001007  0.001050  0.020711  0.002184  0.001271  \n",
       "4     0.017483  0.017524  0.017524  0.036792  0.017719  0.037988  0.054370  \n",
       "...        ...       ...       ...       ...       ...       ...       ...  \n",
       "5795  0.012214  1.000000  1.000000  0.012761  0.012379  0.026539  0.049644  \n",
       "5796  0.012731  0.012761  0.012761  1.000000  0.012902  0.027663  0.039592  \n",
       "5797  0.012349  0.012379  0.012379  0.012902  1.000000  0.026833  0.022567  \n",
       "5798  0.026477  0.026539  0.026539  0.027663  0.026833  1.000000  0.048383  \n",
       "5799  0.022267  0.049644  0.049644  0.039592  0.022567  0.048383  1.000000  \n",
       "\n",
       "[5800 rows x 5800 columns]"
      ]
     },
     "execution_count": 20,
     "metadata": {},
     "output_type": "execute_result"
    }
   ],
   "source": [
    "from sklearn.metrics.pairwise import cosine_similarity\n",
    "\n",
    "similarity_matrix = cosine_similarity(tv_train_features)\n",
    "similarity_df = pd.DataFrame(similarity_matrix)\n",
    "similarity_df"
   ]
  },
  {
   "cell_type": "code",
   "execution_count": 21,
   "metadata": {},
   "outputs": [],
   "source": [
    "#from scipy.cluster.hierarchy import dendrogram, linkage\n",
    "\n",
    "# Z = linkage(similarity_matrix, 'ward')\n",
    "# pd.DataFrame(Z, columns=['Document\\Cluster 1', 'Document\\Cluster 2', \n",
    "#                         'Distance', 'Cluster Size'], dtype='object')"
   ]
  },
  {
   "cell_type": "code",
   "execution_count": 22,
   "metadata": {},
   "outputs": [],
   "source": [
    "#plt.figure(figsize=(8, 3))\n",
    "#plt.title('Hierarchical Clustering Dendrogram')\n",
    "#plt.xlabel('Data point')\n",
    "#plt.ylabel('Distance')\n",
    "#dendrogram(Z)\n",
    "#plt.axhline(y=40, c='k', ls='--', lw=0.5)"
   ]
  },
  {
   "cell_type": "code",
   "execution_count": 23,
   "metadata": {},
   "outputs": [],
   "source": [
    "#from scipy.cluster.hierarchy import fcluster\n",
    "#max_dist = 40\n",
    "\n",
    "#cluster_labels = fcluster(Z, max_dist, criterion='distance')\n",
    "#cluster_labels = pd.DataFrame(cluster_labels, columns=['ClusterLabel'])\n",
    "#pd.concat([dataset, cluster_labels], axis=1)"
   ]
  },
  {
   "cell_type": "code",
   "execution_count": 24,
   "metadata": {},
   "outputs": [],
   "source": [
    "#from sklearn.decomposition import LatentDirichletAllocation\n",
    "#cv_train_features = cv_train_features.toarray()\n",
    "#lda = LatentDirichletAllocation(n_components=3, max_iter=6000, random_state=0)\n",
    "#dt_matrix = lda.fit_transform(cv_train_features)\n",
    "#train_features = pd.DataFrame(dt_matrix, columns=['T1', 'T2', 'T3'])"
   ]
  },
  {
   "cell_type": "code",
   "execution_count": 25,
   "metadata": {},
   "outputs": [],
   "source": [
    "#dtest_matrix = lda.fit_transform(cv_test_features)\n",
    "#test_features = pd.DataFrame(dtest_matrix, columns=['T1', 'T2', 'T3'])"
   ]
  },
  {
   "cell_type": "code",
   "execution_count": 26,
   "metadata": {},
   "outputs": [],
   "source": [
    "\n",
    "# transform test reviews into features\n",
    "cv_test_features = cv.transform(norm_test_reviews)\n",
    "tv_test_features = tv.transform(norm_test_reviews)\n"
   ]
  },
  {
   "cell_type": "code",
   "execution_count": 27,
   "metadata": {},
   "outputs": [
    {
     "name": "stdout",
     "output_type": "stream",
     "text": [
      "BOW model:> Train features shape: (5800, 33293)  Test features shape: (1147, 33293)\n",
      "TFIDF model:> Train features shape: (5800, 33293)  Test features shape: (1147, 33293)\n"
     ]
    }
   ],
   "source": [
    "print('BOW model:> Train features shape:', cv_train_features.shape, ' Test features shape:', cv_test_features.shape)\n",
    "print('TFIDF model:> Train features shape:', tv_train_features.shape, ' Test features shape:', tv_test_features.shape)"
   ]
  },
  {
   "cell_type": "code",
   "execution_count": 28,
   "metadata": {},
   "outputs": [],
   "source": [
    "cv_full_features = cv.transform(norm_full_reviews)\n",
    "tv_full_features = tv.transform(norm_full_reviews)"
   ]
  },
  {
   "cell_type": "code",
   "execution_count": 29,
   "metadata": {},
   "outputs": [
    {
     "name": "stdout",
     "output_type": "stream",
     "text": [
      "TFIDF model:> full features shape: (6947, 33293)\n"
     ]
    }
   ],
   "source": [
    "print('TFIDF model:> full features shape:', tv_full_features.shape)"
   ]
  },
  {
   "cell_type": "code",
   "execution_count": 30,
   "metadata": {},
   "outputs": [
    {
     "name": "stdout",
     "output_type": "stream",
     "text": [
      "[0.119 0.06  0.355 ... 0.355 0.355 3.682]\n",
      "  (1, 1)\t0.07366440198816679\n",
      "  (2, 1)\t0.0637139405195462\n",
      "  (4, 1)\t0.08390759890540901\n",
      "  (7, 3)\t0.13761900282069425\n",
      "  (10, 1)\t0.04935562898788378\n",
      "  (12, 0)\t0.1888940983507088\n",
      "  (16, 1)\t0.053714160644099826\n",
      "  (36, 1)\t0.062498430800249645\n",
      "  (40, 1)\t0.059798056069518636\n",
      "  (43, 1)\t0.05619449824490782\n",
      "  (61, 1)\t0.0695374281174824\n",
      "  (64, 1)\t0.05363516122551311\n",
      "  (67, 1)\t0.05325847084954077\n",
      "  (73, 1)\t0.13480829822381626\n",
      "  (74, 2)\t0.12666766663919135\n",
      "  (80, 1)\t0.05546785544271202\n",
      "  (86, 2)\t0.1400988101492303\n",
      "  (86, 1)\t0.05470617887685334\n",
      "  (93, 0)\t0.14979968201064656\n",
      "  (93, 1)\t0.05830808101675218\n",
      "  (97, 1)\t0.07954559426192984\n",
      "  (106, 0)\t0.1649504638765081\n",
      "  (107, 1)\t0.0727158530723636\n",
      "  (108, 1)\t0.07855892100949925\n",
      "  (112, 1)\t0.06875847180981287\n",
      "  :\t:\n",
      "  (5733, 0)\t0.1481684045354885\n",
      "  (5737, 3)\t0.1391897024938245\n",
      "  (5739, 2)\t0.20961709435464013\n",
      "  (5741, 0)\t0.18032934620771204\n",
      "  (5743, 1)\t0.06717520715829615\n",
      "  (5745, 1)\t0.08749344034768175\n",
      "  (5746, 1)\t0.05530635517825014\n",
      "  (5750, 1)\t0.06403883820246965\n",
      "  (5753, 1)\t0.15787770546559193\n",
      "  (5757, 1)\t0.06159196640692447\n",
      "  (5760, 1)\t0.10290040457529871\n",
      "  (5761, 1)\t0.25343339464202225\n",
      "  (5768, 1)\t0.05600525019035485\n",
      "  (5772, 2)\t0.1741967912245073\n",
      "  (5776, 1)\t0.05014774203121418\n",
      "  (5779, 2)\t0.3221833821932033\n",
      "  (5780, 1)\t0.06291423262252631\n",
      "  (5781, 1)\t0.11078920958133837\n",
      "  (5782, 1)\t0.08653094253941235\n",
      "  (5784, 1)\t0.09187940081521499\n",
      "  (5786, 1)\t0.11051122958567487\n",
      "  (5787, 3)\t0.1228034075347774\n",
      "  (5788, 1)\t0.054351881544814004\n",
      "  (5796, 1)\t0.06110063319400666\n",
      "  (5799, 1)\t0.0739499754295264\n"
     ]
    }
   ],
   "source": [
    "from sklearn.feature_selection import SelectKBest\n",
    "from sklearn.feature_selection import f_classif\n",
    "from numpy import set_printoptions\n",
    "\n",
    "#array = dataset.values\n",
    "X_select = tv_train_features\n",
    "Y_select = train_sentiments\n",
    "# feature extraction\n",
    "test = SelectKBest(score_func=f_classif, k=4)\n",
    "fit = test.fit(X_select, Y_select)\n",
    "# summarize scores\n",
    "set_printoptions(precision=3)\n",
    "print(fit.scores_)\n",
    "features = fit.transform(X_select)\n",
    "# summarize selected features\n",
    "print(features)"
   ]
  },
  {
   "cell_type": "code",
   "execution_count": 31,
   "metadata": {},
   "outputs": [
    {
     "name": "stdout",
     "output_type": "stream",
     "text": [
      "[0.209 0.771   nan ...   nan   nan   nan]\n",
      "  (43, 2)\t0.286852831195934\n",
      "  (140, 3)\t0.3133174946588314\n",
      "  (143, 3)\t0.28103368224323605\n",
      "  (143, 2)\t0.22686185301462405\n",
      "  (155, 2)\t0.24770776864969665\n",
      "  (324, 3)\t0.40336897551236434\n",
      "  (360, 2)\t0.3377838778119919\n",
      "  (379, 1)\t0.35959443061340834\n",
      "  (380, 1)\t0.3049188052843634\n",
      "  (381, 1)\t0.3049188052843634\n",
      "  (396, 2)\t0.23811945740641327\n",
      "  (414, 2)\t0.3422462468340981\n",
      "  (418, 0)\t0.22882191423627218\n",
      "  (419, 2)\t0.25429427228926754\n",
      "  (425, 2)\t0.45759620241569604\n",
      "  (427, 0)\t0.36800712360863896\n",
      "  (485, 1)\t0.3691407971637688\n",
      "  (487, 1)\t0.30763351273465206\n",
      "  (526, 3)\t0.371616935113735\n",
      "  (529, 0)\t0.35721392226565396\n",
      "  (545, 1)\t0.3691407971637688\n",
      "  (606, 0)\t0.25228437671260967\n",
      "  (614, 2)\t0.3381573437462018\n",
      "  (727, 3)\t0.3000405251890063\n",
      "  (877, 2)\t0.26334911717382725\n",
      "  (877, 0)\t0.2558722151832128\n",
      "  (878, 0)\t0.39064100608181973\n",
      "  (879, 2)\t0.3363377568320673\n",
      "  (879, 0)\t0.326788590802714\n",
      "  (1014, 2)\t0.28600509878981273\n",
      "  (1019, 2)\t0.3258436383978426\n",
      "  (1122, 2)\t0.4630185215788715\n",
      "  (1127, 2)\t0.3104848620450779\n",
      "  (1128, 3)\t0.42393495536552095\n"
     ]
    }
   ],
   "source": [
    "#array = dataset.values\n",
    "X_test_select = tv_test_features\n",
    "Y_test_select = test_sentiments\n",
    "# feature extraction\n",
    "test = SelectKBest(score_func=f_classif, k=4)\n",
    "fit = test.fit(X_test_select, Y_test_select)\n",
    "# summarize scores\n",
    "set_printoptions(precision=3)\n",
    "print(fit.scores_)\n",
    "test_features = fit.transform(X_test_select)\n",
    "# summarize selected features\n",
    "print(test_features)"
   ]
  },
  {
   "cell_type": "code",
   "execution_count": 32,
   "metadata": {},
   "outputs": [],
   "source": [
    "#dtfull_matrix = lda.fit_transform(tv_full_features)\n",
    "#full_features = pd.DataFrame(dfull_matrix, columns=['T1', 'T2', 'T3'])"
   ]
  },
  {
   "cell_type": "code",
   "execution_count": 33,
   "metadata": {},
   "outputs": [],
   "source": [
    "from sklearn.linear_model import SGDClassifier\n",
    "\n",
    "lr = LogisticRegression(penalty='l2', max_iter=100, C=1)\n",
    "svm = SGDClassifier(loss='hinge', max_iter=100)"
   ]
  },
  {
   "cell_type": "code",
   "execution_count": 34,
   "metadata": {},
   "outputs": [
    {
     "data": {
      "text/plain": [
       "(5800, 2)"
      ]
     },
     "execution_count": 34,
     "metadata": {},
     "output_type": "execute_result"
    }
   ],
   "source": [
    "from sklearn.feature_selection import SelectKBest\n",
    "from sklearn.feature_selection import chi2\n",
    "\n",
    "X_new = SelectKBest(chi2, k=2).fit_transform(cv_train_features, train_sentiments)\n",
    "X_new.shape"
   ]
  },
  {
   "cell_type": "code",
   "execution_count": 35,
   "metadata": {},
   "outputs": [
    {
     "name": "stdout",
     "output_type": "stream",
     "text": [
      "Model Performance metrics:\n",
      "------------------------------\n",
      "Accuracy: 0.6207\n",
      "Precision: 0.6067\n",
      "Recall: 0.6207\n",
      "F1 Score: 0.574\n",
      "\n",
      "Model Classification report:\n",
      "------------------------------\n",
      "              precision    recall  f1-score   support\n",
      "\n",
      "    positive       0.61      0.49      0.54       342\n",
      "    negative       0.54      0.11      0.19       219\n",
      "     neutral       0.63      0.89      0.74       586\n",
      "\n",
      "    accuracy                           0.62      1147\n",
      "   macro avg       0.59      0.50      0.49      1147\n",
      "weighted avg       0.61      0.62      0.57      1147\n",
      "\n",
      "\n",
      "Prediction Confusion Matrix:\n",
      "------------------------------\n",
      "                 Predicted:                 \n",
      "                   positive negative neutral\n",
      "Actual: positive        168       12     162\n",
      "        negative         50       25     144\n",
      "        neutral          58        9     519\n"
     ]
    }
   ],
   "source": [
    "# Logistic Regression model on topic model features\n",
    "lr_bow_predictions = meu.train_predict_model(classifier=lr, \n",
    "                                             train_features=cv_train_features, train_labels=train_sentiments,\n",
    "                                             test_features=cv_test_features, test_labels=test_sentiments)\n",
    "meu.display_model_performance_metrics(true_labels=test_sentiments, predicted_labels=lr_bow_predictions,\n",
    "                                      classes=['positive', 'negative', 'neutral'])"
   ]
  },
  {
   "cell_type": "code",
   "execution_count": null,
   "metadata": {},
   "outputs": [],
   "source": []
  },
  {
   "cell_type": "code",
   "execution_count": 36,
   "metadata": {},
   "outputs": [
    {
     "data": {
      "image/png": "[encoded data removed]",
      "text/plain": [
       "<Figure size 432x288 with 2 Axes>"
      ]
     },
     "metadata": {
      "needs_background": "light"
     },
     "output_type": "display_data"
    }
   ],
   "source": [
    "import scikitplot as skplt\n",
    "import matplotlib.pyplot as plt\n",
    "y_true = test_sentiments # ground truth labels\n",
    "y_probas_lr = lr_bow_predictions # predicted probabilities generated by sklearn classifier\n",
    "skplt.metrics.plot_confusion_matrix(y_true, y_probas_lr, normalize=True)\n",
    "plt.show()"
   ]
  },
  {
   "cell_type": "code",
   "execution_count": 37,
   "metadata": {},
   "outputs": [
    {
     "name": "stdout",
     "output_type": "stream",
     "text": [
      "Model Performance metrics:\n",
      "------------------------------\n",
      "Accuracy: 0.5109\n",
      "Precision: 0.2898\n",
      "Recall: 0.5109\n",
      "F1 Score: 0.3526\n",
      "\n",
      "Model Classification report:\n",
      "------------------------------\n",
      "              precision    recall  f1-score   support\n",
      "\n",
      "    positive       0.08      0.01      0.01       342\n",
      "    negative       0.00      0.00      0.00       219\n",
      "     neutral       0.52      1.00      0.68       586\n",
      "\n",
      "    accuracy                           0.51      1147\n",
      "   macro avg       0.20      0.33      0.23      1147\n",
      "weighted avg       0.29      0.51      0.35      1147\n",
      "\n",
      "\n",
      "Prediction Confusion Matrix:\n",
      "------------------------------\n",
      "                 Predicted:                 \n",
      "                   positive negative neutral\n",
      "Actual: positive          2        0     340\n",
      "        negative         21        0     198\n",
      "        neutral           2        0     584\n"
     ]
    }
   ],
   "source": [
    "lr_fs_predictions = meu.train_predict_model(classifier=lr, \n",
    "                                             train_features=features, train_labels=train_sentiments,\n",
    "                                             test_features=test_features, test_labels=test_sentiments)\n",
    "meu.display_model_performance_metrics(true_labels=test_sentiments, predicted_labels=lr_fs_predictions,\n",
    "                                      classes=['positive', 'negative', 'neutral'])"
   ]
  },
  {
   "cell_type": "code",
   "execution_count": 38,
   "metadata": {},
   "outputs": [
    {
     "name": "stdout",
     "output_type": "stream",
     "text": [
      "Model Performance metrics:\n",
      "------------------------------\n",
      "Accuracy: 0.5937\n",
      "Precision: 0.5961\n",
      "Recall: 0.5937\n",
      "F1 Score: 0.517\n",
      "\n",
      "Model Classification report:\n",
      "------------------------------\n",
      "              precision    recall  f1-score   support\n",
      "\n",
      "    positive       0.60      0.40      0.48       342\n",
      "    negative       0.60      0.01      0.03       219\n",
      "     neutral       0.59      0.92      0.72       586\n",
      "\n",
      "    accuracy                           0.59      1147\n",
      "   macro avg       0.60      0.45      0.41      1147\n",
      "weighted avg       0.60      0.59      0.52      1147\n",
      "\n",
      "\n",
      "Prediction Confusion Matrix:\n",
      "------------------------------\n",
      "                 Predicted:                 \n",
      "                   positive negative neutral\n",
      "Actual: positive        137        2     203\n",
      "        negative         46        3     170\n",
      "        neutral          45        0     541\n"
     ]
    }
   ],
   "source": [
    "# Logistic Regression model on TF-IDF features\n",
    "lr_tfidf_predictions = meu.train_predict_model(classifier=lr, \n",
    "                                               train_features=tv_train_features, train_labels=train_sentiments,\n",
    "                                               test_features=tv_test_features, test_labels=test_sentiments)\n",
    "meu.display_model_performance_metrics(true_labels=test_sentiments, predicted_labels=lr_tfidf_predictions,\n",
    "                                      classes=['positive', 'negative', 'neutral'])"
   ]
  },
  {
   "cell_type": "code",
   "execution_count": 39,
   "metadata": {},
   "outputs": [
    {
     "data": {
      "image/png": "[encoded data removed]",
      "text/plain": [
       "<Figure size 432x288 with 2 Axes>"
      ]
     },
     "metadata": {
      "needs_background": "light"
     },
     "output_type": "display_data"
    }
   ],
   "source": [
    "# y_true = test_sentiments # ground truth labels\n",
    "y_probas_lrtf = lr_tfidf_predictions # predicted probabilities generated by sklearn classifier\n",
    "skplt.metrics.plot_confusion_matrix(y_true, y_probas_lrtf, normalize=True)\n",
    "plt.show()"
   ]
  },
  {
   "cell_type": "code",
   "execution_count": 40,
   "metadata": {},
   "outputs": [
    {
     "name": "stdout",
     "output_type": "stream",
     "text": [
      "Model Performance metrics:\n",
      "------------------------------\n",
      "Accuracy: 0.6181\n",
      "Precision: 0.6112\n",
      "Recall: 0.6181\n",
      "F1 Score: 0.5922\n",
      "\n",
      "Model Classification report:\n",
      "------------------------------\n",
      "              precision    recall  f1-score   support\n",
      "\n",
      "    positive       0.57      0.54      0.55       342\n",
      "    negative       0.59      0.21      0.32       219\n",
      "     neutral       0.64      0.82      0.72       586\n",
      "\n",
      "    accuracy                           0.62      1147\n",
      "   macro avg       0.60      0.52      0.53      1147\n",
      "weighted avg       0.61      0.62      0.59      1147\n",
      "\n",
      "\n",
      "Prediction Confusion Matrix:\n",
      "------------------------------\n",
      "                 Predicted:                 \n",
      "                   positive negative neutral\n",
      "Actual: positive        184       14     144\n",
      "        negative         50       47     122\n",
      "        neutral          90       18     478\n"
     ]
    }
   ],
   "source": [
    "\n",
    "svm_bow_predictions = meu.train_predict_model(classifier=svm, \n",
    "                                             train_features=cv_train_features, train_labels=train_sentiments,\n",
    "                                             test_features=cv_test_features, test_labels=test_sentiments)\n",
    "\n",
    "meu.display_model_performance_metrics(true_labels=test_sentiments, predicted_labels=svm_bow_predictions,\n",
    "                                      classes=['positive', 'negative', 'neutral'])"
   ]
  },
  {
   "cell_type": "code",
   "execution_count": 41,
   "metadata": {},
   "outputs": [
    {
     "data": {
      "image/png": "[encoded data removed]",
      "text/plain": [
       "<Figure size 432x288 with 2 Axes>"
      ]
     },
     "metadata": {
      "needs_background": "light"
     },
     "output_type": "display_data"
    }
   ],
   "source": [
    "# y_true = test_sentiments # ground truth labels\n",
    "y_probas_lrtf = svm_bow_predictions # predicted probabilities generated by sklearn classifier\n",
    "skplt.metrics.plot_confusion_matrix(y_true, y_probas_lrtf, normalize=True)\n",
    "plt.show()"
   ]
  },
  {
   "cell_type": "code",
   "execution_count": 42,
   "metadata": {},
   "outputs": [
    {
     "name": "stdout",
     "output_type": "stream",
     "text": [
      "Model Performance metrics:\n",
      "------------------------------\n",
      "Accuracy: 0.6181\n",
      "Precision: 0.6115\n",
      "Recall: 0.6181\n",
      "F1 Score: 0.592\n",
      "\n",
      "Model Classification report:\n",
      "------------------------------\n",
      "              precision    recall  f1-score   support\n",
      "\n",
      "    positive       0.55      0.56      0.56       342\n",
      "    negative       0.59      0.20      0.30       219\n",
      "     neutral       0.65      0.81      0.72       586\n",
      "\n",
      "    accuracy                           0.62      1147\n",
      "   macro avg       0.60      0.52      0.53      1147\n",
      "weighted avg       0.61      0.62      0.59      1147\n",
      "\n",
      "\n",
      "Prediction Confusion Matrix:\n",
      "------------------------------\n",
      "                 Predicted:                 \n",
      "                   positive negative neutral\n",
      "Actual: positive        193       15     134\n",
      "        negative         56       44     119\n",
      "        neutral          99       15     472\n"
     ]
    }
   ],
   "source": [
    "svm_tfidf_predictions = meu.train_predict_model(classifier=svm, \n",
    "                                                train_features=tv_train_features, train_labels=train_sentiments,\n",
    "                                                test_features=tv_test_features, test_labels=test_sentiments)\n",
    "meu.display_model_performance_metrics(true_labels=test_sentiments, predicted_labels=svm_tfidf_predictions,\n",
    "                                      classes=['positive', 'negative', 'neutral'])"
   ]
  },
  {
   "cell_type": "code",
   "execution_count": 43,
   "metadata": {},
   "outputs": [
    {
     "data": {
      "image/png": "[encoded data removed]",
      "text/plain": [
       "<Figure size 432x288 with 2 Axes>"
      ]
     },
     "metadata": {
      "needs_background": "light"
     },
     "output_type": "display_data"
    }
   ],
   "source": [
    "# y_true = test_sentiments # ground truth labels\n",
    "y_probas_lrtf = svm_tfidf_predictions # predicted probabilities generated by sklearn classifier\n",
    "skplt.metrics.plot_confusion_matrix(y_true, y_probas_lrtf, normalize=True)\n",
    "plt.show()"
   ]
  },
  {
   "cell_type": "code",
   "execution_count": 44,
   "metadata": {
    "scrolled": true
   },
   "outputs": [
    {
     "data": {
      "text/plain": [
       "neutral     3977\n",
       "positive    2057\n",
       "negative     913\n",
       "Name: sentiment, dtype: int64"
      ]
     },
     "execution_count": 44,
     "metadata": {},
     "output_type": "execute_result"
    }
   ],
   "source": [
    "dataset['sentiment'].value_counts()"
   ]
  },
  {
   "cell_type": "markdown",
   "metadata": {},
   "source": [
    "## Balancing the data\n",
    "\n",
    "As we came to know from our data exploration, our data is imbalanced and there are more than 50% sentiments at rating 3. We will use SMOTE technique to synthetically create data which is similar to present data with same random modification.\n",
    "\n",
    "## Balancing the Data using SMOTE\n",
    "\n",
    "SMOTE is an over-sampling approach in which the minority class is over-sampled by creating “synthetic” examples rather than by over-sampling with replacement.\n",
    "\n",
    "According to the original research paper “SMOTE: Synthetic Minority Over-sampling Technique” (Chawla et al., 2002), “synthetic samples are generated in the following way: Take the difference between the feature vector (sample) under consideration and its nearest neighbour. Multiply this difference by a random number between 0 and 1, and add it to the feature vector under consideration. This causes the selection of a random point along the line segment between two specific features. This approach effectively forces the decision region of the minority class to become more general.” What this means is that when SMOTE creates a new synthetic data, it will choose one data to copy, and look at its k nearest neighbours. Then, on feature space, it will create random values in feature space that is between the original sample and its neighbours.\n",
    "\n",
    "Reference: https://towardsdatascience.com/yet-another-twitter-sentiment-analysis-part-1-tackling-class-imbalance-4d7a7f717d44"
   ]
  },
  {
   "cell_type": "markdown",
   "metadata": {},
   "source": [
    "## SMOTE Over sampling"
   ]
  },
  {
   "cell_type": "code",
   "execution_count": 45,
   "metadata": {},
   "outputs": [],
   "source": [
    "from imblearn.over_sampling import SMOTE # doctest: +NORMALIZE_WHITESPACE\n",
    "sm = SMOTE(random_state=42)\n",
    "\n",
    "\n",
    "X = tv_train_features\n",
    "y = train_sentiments\n",
    "X_res, y_res = sm.fit_resample(X, y)\n"
   ]
  },
  {
   "cell_type": "code",
   "execution_count": 80,
   "metadata": {},
   "outputs": [
    {
     "name": "stdout",
     "output_type": "stream",
     "text": [
      "[0.828 1.433 1.    ... 1.    1.    4.899]\n",
      "  (0, 2)\t0.06205728710393425\n",
      "  (0, 1)\t0.05879516856440702\n",
      "  (4, 2)\t0.07474658276147111\n",
      "  (4, 1)\t0.07081743560129751\n",
      "  (12, 0)\t0.1888940983507088\n",
      "  (12, 1)\t0.06205476699530812\n",
      "  (13, 2)\t0.0686904245755951\n",
      "  (13, 1)\t0.06507962690858203\n",
      "  (14, 2)\t0.07057841212696951\n",
      "  (14, 1)\t0.06686837004433416\n",
      "  (15, 2)\t0.07191509179470054\n",
      "  (15, 1)\t0.06813478548156134\n",
      "  (16, 2)\t0.04784965851034909\n",
      "  (16, 1)\t0.045334381652125604\n",
      "  (19, 2)\t0.046117424616327604\n",
      "  (19, 1)\t0.043693204788860567\n",
      "  (21, 2)\t0.07191509179470054\n",
      "  (21, 1)\t0.06813478548156134\n",
      "  (22, 2)\t0.0633286766188851\n",
      "  (22, 1)\t0.059999725907001776\n",
      "  (23, 2)\t0.04390905309627916\n",
      "  (23, 1)\t0.04160091906653075\n",
      "  (24, 2)\t0.06049271388492273\n",
      "  (24, 1)\t0.05731283908408226\n",
      "  (29, 1)\t0.042721282959845605\n",
      "  :\t:\n",
      "  (10158, 2)\t0.09886031681924146\n",
      "  (10159, 1)\t0.013545348831849206\n",
      "  (10159, 2)\t0.014296882242291503\n",
      "  (10160, 1)\t0.09153030059014305\n",
      "  (10160, 2)\t0.06997374022366079\n",
      "  (10162, 1)\t0.04984062599784971\n",
      "  (10162, 2)\t0.052605921753590655\n",
      "  (10163, 1)\t0.014945775444253503\n",
      "  (10163, 2)\t0.01577500839578254\n",
      "  (10164, 1)\t0.04192796145088859\n",
      "  (10164, 2)\t0.04425424069649868\n",
      "  (10165, 0)\t0.21276895896156425\n",
      "  (10165, 1)\t0.038184325914931094\n",
      "  (10165, 2)\t0.040302897908648494\n",
      "  (10166, 1)\t0.021830194805493638\n",
      "  (10166, 2)\t0.02304139438082068\n",
      "  (10167, 0)\t0.3934151998883023\n",
      "  (10168, 1)\t0.114752769029285\n",
      "  (10168, 2)\t0.12111956998338803\n",
      "  (10169, 1)\t0.053390785057468935\n",
      "  (10169, 2)\t0.027001206075298195\n",
      "  (10170, 1)\t0.07421060894905888\n",
      "  (10170, 2)\t0.07832801874978323\n",
      "  (10171, 1)\t0.3258444677444341\n",
      "  (10171, 2)\t0.34392321987977503\n"
     ]
    }
   ],
   "source": [
    "#array = dataset.values\n",
    "X_train_select = X_res\n",
    "Y_train_select = y_res\n",
    "# feature extraction\n",
    "test = SelectKBest(score_func=f_classif, k=4)\n",
    "fit = test.fit(X_train_select, Y_train_select)\n",
    "# summarize scores\n",
    "set_printoptions(precision=3)\n",
    "print(fit.scores_)\n",
    "features_smote_train = fit.transform(X_train_select)\n",
    "# summarize selected features\n",
    "print(features_smote_train)"
   ]
  },
  {
   "cell_type": "markdown",
   "metadata": {},
   "source": [
    "## Now we have balanced data"
   ]
  },
  {
   "cell_type": "code",
   "execution_count": 46,
   "metadata": {},
   "outputs": [
    {
     "name": "stdout",
     "output_type": "stream",
     "text": [
      "Resampled dataset shape Counter({'positive': 3391, 'negative': 3391, 'neutral': 3391})\n"
     ]
    }
   ],
   "source": [
    "print('Resampled dataset shape %s' % Counter(y_res))"
   ]
  },
  {
   "cell_type": "code",
   "execution_count": 47,
   "metadata": {},
   "outputs": [],
   "source": [
    "Xx = tv_test_features\n",
    "yY = test_sentiments\n",
    "Xx_res, yY_res = sm.fit_resample(Xx, yY)"
   ]
  },
  {
   "cell_type": "code",
   "execution_count": 79,
   "metadata": {},
   "outputs": [
    {
     "name": "stdout",
     "output_type": "stream",
     "text": [
      "[0.586 1.011   nan ...   nan   nan   nan]\n",
      "  (140, 2)\t0.3133174946588314\n",
      "  (143, 2)\t0.28103368224323605\n",
      "  (324, 2)\t0.40336897551236434\n",
      "  (379, 1)\t0.35959443061340834\n",
      "  (380, 1)\t0.3049188052843634\n",
      "  (381, 1)\t0.3049188052843634\n",
      "  (461, 0)\t0.3768289648185507\n",
      "  (485, 1)\t0.3691407971637688\n",
      "  (487, 1)\t0.30763351273465206\n",
      "  (526, 2)\t0.371616935113735\n",
      "  (527, 0)\t0.30933111006944414\n",
      "  (545, 1)\t0.3691407971637688\n",
      "  (687, 3)\t0.47413661446671235\n",
      "  (687, 0)\t0.43750898697067253\n",
      "  (688, 3)\t0.47413661446671235\n",
      "  (688, 0)\t0.43750898697067253\n",
      "  (689, 3)\t0.47413661446671235\n",
      "  (689, 0)\t0.43750898697067253\n",
      "  (691, 3)\t0.4187127451388327\n",
      "  (691, 0)\t0.38636667864903174\n",
      "  (694, 3)\t0.3794223133013474\n",
      "  (694, 0)\t0.35011148023919597\n",
      "  (696, 3)\t0.4187127451388327\n",
      "  (696, 0)\t0.38636667864903174\n",
      "  (710, 3)\t0.392668744422553\n",
      "  :\t:\n",
      "  (1409, 3)\t0.41522537667994186\n",
      "  (1411, 1)\t0.26907001731447683\n",
      "  (1419, 1)\t0.09321877920432381\n",
      "  (1419, 2)\t0.2777728591158548\n",
      "  (1426, 0)\t0.382481136113927\n",
      "  (1426, 3)\t0.41450191053240104\n",
      "  (1430, 1)\t0.08209732431198717\n",
      "  (1436, 1)\t0.043065795600591594\n",
      "  (1442, 1)\t0.30515476843801553\n",
      "  (1443, 0)\t0.41383554701228614\n",
      "  (1443, 3)\t0.44848126792773324\n",
      "  (1447, 1)\t0.2683855360299022\n",
      "  (1462, 0)\t0.43750898697067253\n",
      "  (1462, 3)\t0.47413661446671235\n",
      "  (1466, 0)\t0.4165203459105442\n",
      "  (1466, 3)\t0.45139083435506094\n",
      "  (1486, 2)\t0.03598038622186256\n",
      "  (1488, 0)\t0.37533707095892105\n",
      "  (1488, 3)\t0.4067597544464709\n",
      "  (1490, 2)\t0.35849520455565137\n",
      "  (1492, 2)\t0.14644790796999985\n",
      "  (1498, 2)\t0.10099909910112154\n",
      "  (1501, 1)\t0.20780299585856188\n",
      "  (1506, 1)\t0.12545108566661517\n",
      "  (1507, 1)\t0.36480632619505654\n"
     ]
    }
   ],
   "source": [
    "#array = dataset.values\n",
    "X_smote_select = Xx_res\n",
    "Y_smote_select = yY_res\n",
    "# feature extraction\n",
    "test = SelectKBest(score_func=f_classif, k=4)\n",
    "fit = test.fit(X_smote_select, Y_smote_select)\n",
    "# summarize scores\n",
    "set_printoptions(precision=3)\n",
    "print(fit.scores_)\n",
    "features_smote = fit.transform(X_smote_select)\n",
    "# summarize selected features\n",
    "print(features_smote)"
   ]
  },
  {
   "cell_type": "code",
   "execution_count": 48,
   "metadata": {},
   "outputs": [
    {
     "name": "stdout",
     "output_type": "stream",
     "text": [
      "Model Performance metrics:\n",
      "------------------------------\n",
      "Accuracy: 0.5609\n",
      "Precision: 0.5781\n",
      "Recall: 0.5609\n",
      "F1 Score: 0.5514\n",
      "\n",
      "Model Classification report:\n",
      "------------------------------\n",
      "              precision    recall  f1-score   support\n",
      "\n",
      "    positive       0.55      0.67      0.60       586\n",
      "    negative       0.65      0.36      0.47       586\n",
      "     neutral       0.53      0.66      0.58       586\n",
      "\n",
      "    accuracy                           0.56      1758\n",
      "   macro avg       0.58      0.56      0.55      1758\n",
      "weighted avg       0.58      0.56      0.55      1758\n",
      "\n",
      "\n",
      "Prediction Confusion Matrix:\n",
      "------------------------------\n",
      "                 Predicted:                 \n",
      "                   positive negative neutral\n",
      "Actual: positive        390       47     149\n",
      "        negative        178      212     196\n",
      "        neutral         137       65     384\n"
     ]
    }
   ],
   "source": [
    "lr_smote_predictions = meu.train_predict_model(classifier=lr, \n",
    "                                             train_features=X_res, train_labels=y_res,\n",
    "                                             test_features=Xx_res, test_labels=yY_res)\n",
    "meu.display_model_performance_metrics(true_labels=yY_res, predicted_labels=lr_smote_predictions,\n",
    "                                      classes=['positive', 'negative', 'neutral'])"
   ]
  },
  {
   "cell_type": "code",
   "execution_count": 81,
   "metadata": {},
   "outputs": [
    {
     "name": "stdout",
     "output_type": "stream",
     "text": [
      "Model Performance metrics:\n",
      "------------------------------\n",
      "Accuracy: 0.289\n",
      "Precision: 0.1009\n",
      "Recall: 0.289\n",
      "F1 Score: 0.1496\n",
      "\n",
      "Model Classification report:\n",
      "------------------------------\n",
      "              precision    recall  f1-score   support\n",
      "\n",
      "    positive       0.00      0.00      0.00       586\n",
      "    negative       0.30      0.87      0.45       586\n",
      "     neutral       0.00      0.00      0.00       586\n",
      "\n",
      "    accuracy                           0.29      1758\n",
      "   macro avg       0.10      0.29      0.15      1758\n",
      "weighted avg       0.10      0.29      0.15      1758\n",
      "\n",
      "\n",
      "Prediction Confusion Matrix:\n",
      "------------------------------\n",
      "                 Predicted:                 \n",
      "                   positive negative neutral\n",
      "Actual: positive          0      586       0\n",
      "        negative         59      508      19\n",
      "        neutral           2      584       0\n"
     ]
    }
   ],
   "source": [
    "lr_smoteselect_predictions = meu.train_predict_model(classifier=lr, \n",
    "                                             train_features=features_smote_train, train_labels=y_res,\n",
    "                                             test_features=features_smote, test_labels=yY_res)\n",
    "meu.display_model_performance_metrics(true_labels=yY_res, predicted_labels=lr_smoteselect_predictions,\n",
    "                                      classes=['positive', 'negative', 'neutral'])"
   ]
  },
  {
   "cell_type": "code",
   "execution_count": 49,
   "metadata": {},
   "outputs": [
    {
     "data": {
      "image/png": "[encoded data removed]",
      "text/plain": [
       "<Figure size 432x288 with 2 Axes>"
      ]
     },
     "metadata": {
      "needs_background": "light"
     },
     "output_type": "display_data"
    }
   ],
   "source": [
    "# y_true = test_sentiments # ground truth labels\n",
    "y_probas_lrtf = lr_smote_predictions # predicted probabilities generated by sklearn classifier\n",
    "skplt.metrics.plot_confusion_matrix(yY_res, y_probas_lrtf, normalize=True)\n",
    "plt.show()"
   ]
  },
  {
   "cell_type": "code",
   "execution_count": 50,
   "metadata": {},
   "outputs": [
    {
     "name": "stdout",
     "output_type": "stream",
     "text": [
      "Model Performance metrics:\n",
      "------------------------------\n",
      "Accuracy: 0.5614\n",
      "Precision: 0.6067\n",
      "Recall: 0.5614\n",
      "F1 Score: 0.5459\n",
      "\n",
      "Model Classification report:\n",
      "------------------------------\n",
      "              precision    recall  f1-score   support\n",
      "\n",
      "    positive       0.54      0.67      0.60       586\n",
      "    negative       0.76      0.31      0.44       586\n",
      "     neutral       0.52      0.70      0.60       586\n",
      "\n",
      "    accuracy                           0.56      1758\n",
      "   macro avg       0.61      0.56      0.55      1758\n",
      "weighted avg       0.61      0.56      0.55      1758\n",
      "\n",
      "\n",
      "Prediction Confusion Matrix:\n",
      "------------------------------\n",
      "                 Predicted:                 \n",
      "                   positive negative neutral\n",
      "Actual: positive        393       24     169\n",
      "        negative        189      182     215\n",
      "        neutral         140       34     412\n"
     ]
    }
   ],
   "source": [
    "svm_smote_predictions = meu.train_predict_model(classifier=svm, \n",
    "                                                train_features=X_res, train_labels=y_res,\n",
    "                                                test_features=Xx_res, test_labels=yY_res)\n",
    "meu.display_model_performance_metrics(true_labels=yY_res, predicted_labels=svm_smote_predictions,\n",
    "                                      classes=['positive', 'negative', 'neutral'])"
   ]
  },
  {
   "cell_type": "code",
   "execution_count": 51,
   "metadata": {},
   "outputs": [
    {
     "data": {
      "image/png": "[encoded data removed]",
      "text/plain": [
       "<Figure size 432x288 with 2 Axes>"
      ]
     },
     "metadata": {
      "needs_background": "light"
     },
     "output_type": "display_data"
    }
   ],
   "source": [
    "# y_true = test_sentiments # ground truth labels\n",
    "y_probas_lrtf = svm_smote_predictions # predicted probabilities generated by sklearn classifier\n",
    "skplt.metrics.plot_confusion_matrix(yY_res, y_probas_lrtf, normalize=True)\n",
    "plt.show()"
   ]
  },
  {
   "cell_type": "code",
   "execution_count": 52,
   "metadata": {},
   "outputs": [],
   "source": [
    "# auc = roc_auc_score(yY_res, y_probas_lrtf)"
   ]
  },
  {
   "cell_type": "code",
   "execution_count": 53,
   "metadata": {},
   "outputs": [
    {
     "name": "stdout",
     "output_type": "stream",
     "text": [
      "[('negative', 694), ('neutral', 694), ('positive', 694)]\n",
      "[('negative', 586), ('neutral', 586), ('positive', 586)]\n"
     ]
    }
   ],
   "source": [
    "from imblearn.under_sampling import ClusterCentroids\n",
    "cc = ClusterCentroids(random_state=0)\n",
    "\n",
    "X_under, y_under = cc.fit_resample(X, y)\n",
    "Xx_under, yY_under = sm.fit_resample(Xx, yY)\n",
    "\n",
    "print(sorted(Counter(y_under).items()))\n",
    "print(sorted(Counter(yY_under).items()))"
   ]
  },
  {
   "cell_type": "code",
   "execution_count": 54,
   "metadata": {},
   "outputs": [
    {
     "name": "stdout",
     "output_type": "stream",
     "text": [
      "Model Performance metrics:\n",
      "------------------------------\n",
      "Accuracy: 0.5444\n",
      "Precision: 0.5494\n",
      "Recall: 0.5444\n",
      "F1 Score: 0.5423\n",
      "\n",
      "Model Classification report:\n",
      "------------------------------\n",
      "              precision    recall  f1-score   support\n",
      "\n",
      "    positive       0.52      0.61      0.56       586\n",
      "    negative       0.59      0.45      0.51       586\n",
      "     neutral       0.54      0.57      0.55       586\n",
      "\n",
      "    accuracy                           0.54      1758\n",
      "   macro avg       0.55      0.54      0.54      1758\n",
      "weighted avg       0.55      0.54      0.54      1758\n",
      "\n",
      "\n",
      "Prediction Confusion Matrix:\n",
      "------------------------------\n",
      "                 Predicted:                 \n",
      "                   positive negative neutral\n",
      "Actual: positive        360       87     139\n",
      "        negative        177      263     146\n",
      "        neutral         155       97     334\n"
     ]
    }
   ],
   "source": [
    "lr_smote_under_predictions = meu.train_predict_model(classifier=lr,train_features=X_under, train_labels=y_under,test_features=Xx_under, test_labels=yY_under)\n",
    "\n",
    "meu.display_model_performance_metrics(true_labels=yY_under, predicted_labels=lr_smote_under_predictions,classes=['positive', 'negative', 'neutral'])"
   ]
  },
  {
   "cell_type": "code",
   "execution_count": 55,
   "metadata": {},
   "outputs": [
    {
     "data": {
      "image/png": "[encoded data removed]",
      "text/plain": [
       "<Figure size 432x288 with 2 Axes>"
      ]
     },
     "metadata": {
      "needs_background": "light"
     },
     "output_type": "display_data"
    }
   ],
   "source": [
    "# y_true = test_sentiments # ground truth labels\n",
    "y_probas_lrtf = lr_smote_under_predictions # predicted probabilities generated by sklearn classifier\n",
    "skplt.metrics.plot_confusion_matrix(yY_under, y_probas_lrtf, normalize=True)\n",
    "plt.show()"
   ]
  },
  {
   "cell_type": "code",
   "execution_count": 56,
   "metadata": {},
   "outputs": [
    {
     "name": "stdout",
     "output_type": "stream",
     "text": [
      "Model Performance metrics:\n",
      "------------------------------\n",
      "Accuracy: 0.5421\n",
      "Precision: 0.5519\n",
      "Recall: 0.5421\n",
      "F1 Score: 0.5401\n",
      "\n",
      "Model Classification report:\n",
      "------------------------------\n",
      "              precision    recall  f1-score   support\n",
      "\n",
      "    positive       0.52      0.59      0.55       586\n",
      "    negative       0.62      0.44      0.51       586\n",
      "     neutral       0.52      0.60      0.56       586\n",
      "\n",
      "    accuracy                           0.54      1758\n",
      "   macro avg       0.55      0.54      0.54      1758\n",
      "weighted avg       0.55      0.54      0.54      1758\n",
      "\n",
      "\n",
      "Prediction Confusion Matrix:\n",
      "------------------------------\n",
      "                 Predicted:                 \n",
      "                   positive negative neutral\n",
      "Actual: positive        344       71     171\n",
      "        negative        172      257     157\n",
      "        neutral         147       87     352\n"
     ]
    }
   ],
   "source": [
    "svm_smote_under_predictions = meu.train_predict_model(classifier=svm,train_features=X_under, train_labels=y_under,test_features=Xx_under, test_labels=yY_under)\n",
    "\n",
    "meu.display_model_performance_metrics(true_labels=yY_under, predicted_labels=svm_smote_under_predictions,classes=['positive', 'negative', 'neutral'])"
   ]
  },
  {
   "cell_type": "code",
   "execution_count": 57,
   "metadata": {},
   "outputs": [
    {
     "data": {
      "image/png": "[encoded data removed]",
      "text/plain": [
       "<Figure size 432x288 with 2 Axes>"
      ]
     },
     "metadata": {
      "needs_background": "light"
     },
     "output_type": "display_data"
    }
   ],
   "source": [
    "# y_true = test_sentiments # ground truth labels\n",
    "y_probas_lrtf = svm_smote_under_predictions # predicted probabilities generated by sklearn classifier\n",
    "skplt.metrics.plot_confusion_matrix(yY_under, y_probas_lrtf, normalize=True)\n",
    "plt.show()"
   ]
  },
  {
   "cell_type": "markdown",
   "metadata": {},
   "source": [
    "## Random Over Sampling "
   ]
  },
  {
   "cell_type": "code",
   "execution_count": 58,
   "metadata": {},
   "outputs": [
    {
     "name": "stdout",
     "output_type": "stream",
     "text": [
      "4373 new random picked points\n",
      "611 new random picked points\n"
     ]
    }
   ],
   "source": [
    "from imblearn.over_sampling import RandomOverSampler\n",
    "ros = RandomOverSampler()\n",
    "\n",
    "X_ros, y_ros = ros.fit_sample(X, y)\n",
    "Xx_ros, yY_ros = ros.fit_resample(Xx, yY)\n",
    "\n",
    "print(X_ros.shape[0] - X.shape[0], 'new random picked points')\n",
    "print(Xx_ros.shape[0] - Xx.shape[0], 'new random picked points')"
   ]
  },
  {
   "cell_type": "code",
   "execution_count": 59,
   "metadata": {},
   "outputs": [
    {
     "name": "stdout",
     "output_type": "stream",
     "text": [
      "Model Performance metrics:\n",
      "------------------------------\n",
      "Accuracy: 0.5404\n",
      "Precision: 0.5585\n",
      "Recall: 0.5404\n",
      "F1 Score: 0.5299\n",
      "\n",
      "Model Classification report:\n",
      "------------------------------\n",
      "              precision    recall  f1-score   support\n",
      "\n",
      "    positive       0.58      0.57      0.57       586\n",
      "    negative       0.61      0.34      0.44       586\n",
      "     neutral       0.49      0.71      0.58       586\n",
      "\n",
      "    accuracy                           0.54      1758\n",
      "   macro avg       0.56      0.54      0.53      1758\n",
      "weighted avg       0.56      0.54      0.53      1758\n",
      "\n",
      "\n",
      "Prediction Confusion Matrix:\n",
      "------------------------------\n",
      "                 Predicted:                 \n",
      "                   positive negative neutral\n",
      "Actual: positive        332       65     189\n",
      "        negative        139      200     247\n",
      "        neutral         105       63     418\n"
     ]
    }
   ],
   "source": [
    "lr_random_over_predictions = meu.train_predict_model(classifier=lr,train_features=X_ros, train_labels=y_ros,test_features=Xx_ros, test_labels=yY_ros)\n",
    "\n",
    "meu.display_model_performance_metrics(true_labels=yY_ros, predicted_labels=lr_random_over_predictions,classes=['positive', 'negative', 'neutral'])"
   ]
  },
  {
   "cell_type": "code",
   "execution_count": 60,
   "metadata": {},
   "outputs": [
    {
     "data": {
      "image/png": "[encoded data removed]",
      "text/plain": [
       "<Figure size 432x288 with 2 Axes>"
      ]
     },
     "metadata": {
      "needs_background": "light"
     },
     "output_type": "display_data"
    }
   ],
   "source": [
    "# y_true = test_sentiments # ground truth labels\n",
    "y_probas_lrtf = lr_random_over_predictions # predicted probabilities generated by sklearn classifier\n",
    "skplt.metrics.plot_confusion_matrix(yY_ros, y_probas_lrtf, normalize=True)\n",
    "plt.show()"
   ]
  },
  {
   "cell_type": "code",
   "execution_count": 61,
   "metadata": {},
   "outputs": [
    {
     "name": "stdout",
     "output_type": "stream",
     "text": [
      "Model Performance metrics:\n",
      "------------------------------\n",
      "Accuracy: 0.5495\n",
      "Precision: 0.5918\n",
      "Recall: 0.5495\n",
      "F1 Score: 0.5314\n",
      "\n",
      "Model Classification report:\n",
      "------------------------------\n",
      "              precision    recall  f1-score   support\n",
      "\n",
      "    positive       0.58      0.58      0.58       586\n",
      "    negative       0.71      0.30      0.42       586\n",
      "     neutral       0.49      0.78      0.60       586\n",
      "\n",
      "    accuracy                           0.55      1758\n",
      "   macro avg       0.59      0.55      0.53      1758\n",
      "weighted avg       0.59      0.55      0.53      1758\n",
      "\n",
      "\n",
      "Prediction Confusion Matrix:\n",
      "------------------------------\n",
      "                 Predicted:                 \n",
      "                   positive negative neutral\n",
      "Actual: positive        337       40     209\n",
      "        negative        150      173     263\n",
      "        neutral          99       31     456\n"
     ]
    }
   ],
   "source": [
    "svm_random_over_predictions = meu.train_predict_model(classifier=svm,train_features=X_ros, train_labels=y_ros,test_features=Xx_ros, test_labels=yY_ros)\n",
    "\n",
    "meu.display_model_performance_metrics(true_labels=yY_ros, predicted_labels=svm_random_over_predictions,classes=['positive', 'negative', 'neutral'])"
   ]
  },
  {
   "cell_type": "code",
   "execution_count": 62,
   "metadata": {},
   "outputs": [
    {
     "data": {
      "image/png": "[encoded data removed]",
      "text/plain": [
       "<Figure size 432x288 with 2 Axes>"
      ]
     },
     "metadata": {
      "needs_background": "light"
     },
     "output_type": "display_data"
    }
   ],
   "source": [
    "# y_true = test_sentiments # ground truth labels\n",
    "y_probas_lrtf = svm_random_over_predictions # predicted probabilities generated by sklearn classifier\n",
    "skplt.metrics.plot_confusion_matrix(yY_ros, y_probas_lrtf, normalize=True)\n",
    "plt.show()"
   ]
  },
  {
   "cell_type": "markdown",
   "metadata": {},
   "source": [
    "## Random Under Sampling "
   ]
  },
  {
   "cell_type": "code",
   "execution_count": 63,
   "metadata": {},
   "outputs": [
    {
     "name": "stdout",
     "output_type": "stream",
     "text": [
      "[('negative', 694), ('neutral', 694), ('positive', 694)]\n",
      "[('negative', 586), ('neutral', 586), ('positive', 586)]\n"
     ]
    }
   ],
   "source": [
    "from imblearn.under_sampling import RandomUnderSampler\n",
    "rus = RandomUnderSampler()\n",
    "\n",
    "X_rus, y_rus = rus.fit_sample(X, y)\n",
    "Xx_rus, yY_rus = sm.fit_resample(Xx, yY)\n",
    "\n",
    "print(sorted(Counter(y_rus).items()))\n",
    "print(sorted(Counter(yY_rus).items()))"
   ]
  },
  {
   "cell_type": "code",
   "execution_count": 64,
   "metadata": {},
   "outputs": [
    {
     "name": "stdout",
     "output_type": "stream",
     "text": [
      "Model Performance metrics:\n",
      "------------------------------\n",
      "Accuracy: 0.5341\n",
      "Precision: 0.5341\n",
      "Recall: 0.5341\n",
      "F1 Score: 0.534\n",
      "\n",
      "Model Classification report:\n",
      "------------------------------\n",
      "              precision    recall  f1-score   support\n",
      "\n",
      "    positive       0.55      0.56      0.56       586\n",
      "    negative       0.53      0.51      0.52       586\n",
      "     neutral       0.52      0.53      0.53       586\n",
      "\n",
      "    accuracy                           0.53      1758\n",
      "   macro avg       0.53      0.53      0.53      1758\n",
      "weighted avg       0.53      0.53      0.53      1758\n",
      "\n",
      "\n",
      "Prediction Confusion Matrix:\n",
      "------------------------------\n",
      "                 Predicted:                 \n",
      "                   positive negative neutral\n",
      "Actual: positive        330      122     134\n",
      "        negative        134      297     155\n",
      "        neutral         131      143     312\n"
     ]
    }
   ],
   "source": [
    "lr_random_under_predictions = meu.train_predict_model(classifier=lr,train_features=X_rus, train_labels=y_rus,test_features=Xx_rus, test_labels=yY_rus)\n",
    "\n",
    "meu.display_model_performance_metrics(true_labels=yY_rus, predicted_labels=lr_random_under_predictions,classes=['positive', 'negative', 'neutral'])"
   ]
  },
  {
   "cell_type": "code",
   "execution_count": 65,
   "metadata": {},
   "outputs": [
    {
     "data": {
      "image/png": "[encoded data removed]",
      "text/plain": [
       "<Figure size 432x288 with 2 Axes>"
      ]
     },
     "metadata": {
      "needs_background": "light"
     },
     "output_type": "display_data"
    }
   ],
   "source": [
    "# y_true = test_sentiments # ground truth labels\n",
    "y_probas_lrtf = lr_random_under_predictions # predicted probabilities generated by sklearn classifier\n",
    "skplt.metrics.plot_confusion_matrix(yY_rus, y_probas_lrtf, normalize=True)\n",
    "plt.show()"
   ]
  },
  {
   "cell_type": "code",
   "execution_count": 66,
   "metadata": {},
   "outputs": [
    {
     "name": "stdout",
     "output_type": "stream",
     "text": [
      "Model Performance metrics:\n",
      "------------------------------\n",
      "Accuracy: 0.554\n",
      "Precision: 0.5565\n",
      "Recall: 0.554\n",
      "F1 Score: 0.5544\n",
      "\n",
      "Model Classification report:\n",
      "------------------------------\n",
      "              precision    recall  f1-score   support\n",
      "\n",
      "    positive       0.58      0.54      0.56       586\n",
      "    negative       0.58      0.55      0.56       586\n",
      "     neutral       0.51      0.57      0.54       586\n",
      "\n",
      "    accuracy                           0.55      1758\n",
      "   macro avg       0.56      0.55      0.55      1758\n",
      "weighted avg       0.56      0.55      0.55      1758\n",
      "\n",
      "\n",
      "Prediction Confusion Matrix:\n",
      "------------------------------\n",
      "                 Predicted:                 \n",
      "                   positive negative neutral\n",
      "Actual: positive        318      108     160\n",
      "        negative        107      321     158\n",
      "        neutral         123      128     335\n"
     ]
    }
   ],
   "source": [
    "svm_random_under_predictions = meu.train_predict_model(classifier=svm,train_features=X_rus, train_labels=y_rus,test_features=Xx_rus, test_labels=yY_rus)\n",
    "\n",
    "meu.display_model_performance_metrics(true_labels=yY_rus, predicted_labels=svm_random_under_predictions,classes=['positive', 'negative', 'neutral'])"
   ]
  },
  {
   "cell_type": "code",
   "execution_count": 67,
   "metadata": {},
   "outputs": [
    {
     "data": {
      "image/png": "[encoded data removed]",
      "text/plain": [
       "<Figure size 432x288 with 2 Axes>"
      ]
     },
     "metadata": {
      "needs_background": "light"
     },
     "output_type": "display_data"
    }
   ],
   "source": [
    "# y_true = test_sentiments # ground truth labels\n",
    "y_probas_lrtf = svm_random_under_predictions # predicted probabilities generated by sklearn classifier\n",
    "skplt.metrics.plot_confusion_matrix(yY_rus, y_probas_lrtf, normalize=True)\n",
    "plt.show()"
   ]
  },
  {
   "cell_type": "code",
   "execution_count": null,
   "metadata": {},
   "outputs": [],
   "source": []
  },
  {
   "cell_type": "code",
   "execution_count": 68,
   "metadata": {},
   "outputs": [],
   "source": [
    "Xf_rus, yf_rus = rus.fit_sample(tv_full_features, sentiments)"
   ]
  },
  {
   "cell_type": "markdown",
   "metadata": {},
   "source": [
    "## Ensemble learning\n",
    "As we already know by now, using base model we can go up to maximum accuracy is 57% after under sampling.\n",
    "Let's try out Boosting, Bagging & Stacking to find out if that further refines our final accuracy. Basically, these\n",
    "techniques are used to achieve better accuracy by tunning models and improving while training the model."
   ]
  },
  {
   "cell_type": "markdown",
   "metadata": {},
   "source": [
    "## Bagging\n",
    "From the below results we know that Bagging doesnt work for our dataset. Bagging is generally used for making\n",
    "variance low."
   ]
  },
  {
   "cell_type": "code",
   "execution_count": 69,
   "metadata": {},
   "outputs": [],
   "source": [
    "# Get some classifiers to evaluate\n",
    "from sklearn.model_selection import cross_val_score\n",
    "from sklearn.ensemble import BaggingClassifier, ExtraTreesClassifier, RandomForestClassifier\n",
    "from sklearn.neighbors import KNeighborsClassifier\n",
    "from sklearn.linear_model import RidgeClassifier\n",
    "from sklearn.svm import SVC"
   ]
  },
  {
   "cell_type": "code",
   "execution_count": 70,
   "metadata": {},
   "outputs": [
    {
     "name": "stdout",
     "output_type": "stream",
     "text": [
      "Mean of: 0.421, std: (+/-) 0.046 [RandomForestClassifier]\n",
      "Mean of: 0.334, std: (+/-) 0.002 [Bagging RandomForestClassifier]\n",
      "\n",
      "Mean of: 0.478, std: (+/-) 0.042 [ExtraTreesClassifier]\n",
      "Mean of: 0.334, std: (+/-) 0.002 [Bagging ExtraTreesClassifier]\n",
      "\n",
      "Mean of: 0.457, std: (+/-) 0.042 [KNeighborsClassifier]\n",
      "Mean of: 0.333, std: (+/-) 0.000 [Bagging KNeighborsClassifier]\n",
      "\n",
      "Mean of: 0.533, std: (+/-) 0.026 [SGDClassifier]\n",
      "Mean of: 0.333, std: (+/-) 0.001 [Bagging SGDClassifier]\n",
      "\n",
      "Mean of: 0.540, std: (+/-) 0.033 [RidgeClassifier]\n",
      "Mean of: 0.334, std: (+/-) 0.001 [Bagging RidgeClassifier]\n",
      "\n"
     ]
    }
   ],
   "source": [
    "seed = 575\n",
    "np.random.seed(seed)\n",
    "# Create classifiers\n",
    "rf = RandomForestClassifier()\n",
    "et = ExtraTreesClassifier()\n",
    "knn = KNeighborsClassifier()\n",
    "svc = SGDClassifier(loss='hinge', max_iter=100)\n",
    "rg = RidgeClassifier()\n",
    "clf_array = [rf, et, knn, svc, rg]\n",
    "\n",
    "for clf in clf_array:\n",
    "    vanilla_scores = cross_val_score(clf, Xf_rus, yf_rus, cv=10, n_jobs=-1)\n",
    "    bagging_clf = BaggingClassifier(clf,max_samples=0.4, max_features=10, random_state=seed)\n",
    "    bagging_scores = cross_val_score(bagging_clf, Xf_rus, yf_rus, cv=10,n_jobs=-1)\n",
    "\n",
    "    print(\"Mean of: {1:.3f}, std: (+/-) {2:.3f} [{0}]\".format(clf.__class__.__name__,vanilla_scores.mean(), vanilla_scores.std()))\n",
    "    print(\"Mean of: {1:.3f}, std: (+/-) {2:.3f} [Bagging {0}]\\n\".format(clf.__class__.__name__,bagging_scores.mean(), bagging_scores.std()))"
   ]
  },
  {
   "cell_type": "markdown",
   "metadata": {},
   "source": [
    "## Boosting\n",
    "Think about optimization of a function over its function space, where optimization can be solved using gradient\n",
    "descent. Vanilla gradient gradient descent is used to minimize a set of parameters. E.g. finding the weights of\n",
    "parameters for a linear regression, through updates from an error function. Parameter estimation seems trivial if\n",
    "we have a smooth convex parameter space, however not all problems provide such a simple plane to traverse\n",
    "over. Our problem, because there many categorial and binary variables it creates a complex gradient with many\n",
    "local minima to get stuck in during the optimization process. For these problems, we can use a different form of\n",
    "gradient descent called boosting."
   ]
  },
  {
   "cell_type": "code",
   "execution_count": 71,
   "metadata": {},
   "outputs": [
    {
     "name": "stdout",
     "output_type": "stream",
     "text": [
      "Mean: 0.476, std: (+/-) 0.029 [Ada Boost]\n",
      "Mean: 0.475, std: (+/-) 0.043 [Grad Boost]\n",
      "Mean: 0.443, std: (+/-) 0.057 [XG Boost]\n",
      "Mean: 0.462, std: (+/-) 0.041 [Ensemble]\n"
     ]
    }
   ],
   "source": [
    "from mlxtend.classifier import EnsembleVoteClassifier\n",
    "import warnings\n",
    "from xgboost import XGBClassifier, plot_importance\n",
    "from sklearn.ensemble import AdaBoostClassifier, GradientBoostingClassifier\n",
    "warnings.filterwarnings('ignore')\n",
    "# Create boosting classifiers\n",
    "ada_boost = AdaBoostClassifier()\n",
    "grad_boost = GradientBoostingClassifier()\n",
    "xgb_boost = XGBClassifier()\n",
    "\n",
    "boost_array = [ada_boost, grad_boost, xgb_boost]\n",
    "eclf = EnsembleVoteClassifier(clfs=[ada_boost, grad_boost, xgb_boost], voting='hard')\n",
    "\n",
    "labels = ['Ada Boost', 'Grad Boost', 'XG Boost', 'Ensemble']\n",
    "\n",
    "for clf, label in zip([ada_boost, grad_boost, xgb_boost, eclf], labels):\n",
    "    scores = cross_val_score(clf, Xf_rus, yf_rus, cv=10, scoring='accuracy')\n",
    "    print(\"Mean: {0:.3f}, std: (+/-) {1:.3f} [{2}]\".format(scores.mean(), scores.std(), label))"
   ]
  },
  {
   "cell_type": "code",
   "execution_count": 72,
   "metadata": {},
   "outputs": [],
   "source": [
    "from sklearn.tree import DecisionTreeClassifier\n",
    "from sklearn.neighbors import KNeighborsClassifier\n",
    "from sklearn.linear_model import LogisticRegression\n",
    "from sklearn.ensemble import BaggingClassifier\n",
    "#clf = DecisionTreeClassifier(criterion='entropy', max_depth=1)\n",
    "clf = SGDClassifier(loss='hinge', max_iter=100)\n",
    "num_est = [1, 2, 3, 10]\n",
    "label = ['AdaBoost (n_est=1)', 'AdaBoost (n_est=2)', 'AdaBoost (n_est=3)', 'AdaBoost (n_est=10)']"
   ]
  },
  {
   "cell_type": "code",
   "execution_count": 73,
   "metadata": {},
   "outputs": [
    {
     "name": "stdout",
     "output_type": "stream",
     "text": [
      "Mean: 0.527, std: (+/-) 0.028 [AdaBoost (n_est=1)]\n",
      "Mean: 0.528, std: (+/-) 0.027 [AdaBoost (n_est=2)]\n",
      "Mean: 0.532, std: (+/-) 0.026 [AdaBoost (n_est=3)]\n",
      "Mean: 0.530, std: (+/-) 0.024 [AdaBoost (n_est=10)]\n"
     ]
    },
    {
     "data": {
      "text/plain": [
       "<Figure size 720x576 with 0 Axes>"
      ]
     },
     "metadata": {},
     "output_type": "display_data"
    }
   ],
   "source": [
    "import itertools\n",
    "import matplotlib.gridspec as gridspec\n",
    "from sklearn.ensemble import AdaBoostClassifier\n",
    "from mlxtend.plotting import plot_learning_curves\n",
    "from mlxtend.plotting import plot_decision_regions\n",
    "fig = plt.figure(figsize=(10, 8))\n",
    "gs = gridspec.GridSpec(2, 2)\n",
    "grid = itertools.product([0,1],repeat=2)\n",
    "\n",
    "for n_est, label, grd in zip(num_est, label, grid):\n",
    "    boosting = AdaBoostClassifier(base_estimator=clf, n_estimators=n_est, algorithm='SAMME')\n",
    "    boosting.fit(Xf_rus, yf_rus)\n",
    "    scores = cross_val_score(clf, Xf_rus, yf_rus, cv=10, scoring='accuracy')\n",
    "    print(\"Mean: {0:.3f}, std: (+/-) {1:.3f} [{2}]\".format(scores.mean(), scores.std(), label))\n",
    "# Let’s perform the same of voting on our boosting models"
   ]
  },
  {
   "cell_type": "code",
   "execution_count": 74,
   "metadata": {},
   "outputs": [
    {
     "data": {
      "image/png": "[encoded data removed]",
      "text/plain": [
       "<Figure size 432x288 with 1 Axes>"
      ]
     },
     "metadata": {
      "needs_background": "light"
     },
     "output_type": "display_data"
    }
   ],
   "source": [
    "from sklearn.model_selection import cross_val_score, train_test_split\n",
    "#plot learning curves\n",
    "X_train, X_test, y_train, y_test = train_test_split(Xf_rus, yf_rus, test_size=0.3, random_state=0)\n",
    "boosting = AdaBoostClassifier(base_estimator=clf, n_estimators=10, algorithm='SAMME')\n",
    "plt.figure()\n",
    "plot_learning_curves(X_train, y_train, X_test, y_test, boosting, print_model=False, style='ggplot')\n",
    "plt.show()"
   ]
  },
  {
   "cell_type": "markdown",
   "metadata": {},
   "source": [
    "## Stacking in ensemble learning\n",
    "Stacking is an ensemble learning technique that combines multiple classification or regression models via a\n",
    "meta-classifier or a meta-regressor. The base level models are trained based on complete training set then the\n",
    "meta-model is trained on the outputs of base level model as features. The base level often consists of different\n",
    "learning algorithms and therefore stacking ensembles are often heterogeneous."
   ]
  },
  {
   "cell_type": "code",
   "execution_count": 75,
   "metadata": {},
   "outputs": [],
   "source": [
    "import seaborn as sns\n",
    "import matplotlib.pyplot as plt\n",
    "import matplotlib.gridspec as gridspec\n",
    "from sklearn import datasets\n",
    "from sklearn.linear_model import LogisticRegression\n",
    "from sklearn.neighbors import KNeighborsClassifier\n",
    "from sklearn.naive_bayes import GaussianNB\n",
    "from sklearn.ensemble import RandomForestClassifier\n",
    "from mlxtend.classifier import StackingClassifier\n",
    "from sklearn.model_selection import cross_val_score, train_test_split\n",
    "from mlxtend.plotting import plot_learning_curves\n",
    "from mlxtend.plotting import plot_decision_regions"
   ]
  },
  {
   "cell_type": "code",
   "execution_count": 76,
   "metadata": {},
   "outputs": [],
   "source": [
    "clf1 = KNeighborsClassifier(n_neighbors=1)\n",
    "clf2 = RandomForestClassifier(random_state=1)\n",
    "clf3 = GaussianNB()\n",
    "# clf4 = SGDClassifier(loss='hinge', max_iter=100)\n",
    "lr = LogisticRegression()\n",
    "sclf = StackingClassifier(classifiers=[clf1, clf2, clf3],\n",
    "meta_classifier=lr)"
   ]
  },
  {
   "cell_type": "code",
   "execution_count": 77,
   "metadata": {},
   "outputs": [],
   "source": [
    "# Converting sentiments to integers to plot graphs\n",
    "X_array = Xf_rus.toarray()\n",
    "\n",
    "\n",
    "yf_rus[yf_rus == 'positive'] = 1\n",
    "yf_rus[yf_rus == 'negative'] = 0\n",
    "yf_rus[yf_rus == 'neutral'] = 2\n",
    "yf_rus=yf_rus.astype('int')"
   ]
  },
  {
   "cell_type": "code",
   "execution_count": 78,
   "metadata": {},
   "outputs": [
    {
     "name": "stdout",
     "output_type": "stream",
     "text": [
      "Accuracy: 0.44 (+/- 0.01) [KNN]\n",
      "Accuracy: 0.34 (+/- 0.02) [Random Forest]\n",
      "Accuracy: 0.45 (+/- 0.03) [Naive Bayes]\n",
      "Accuracy: 0.43 (+/- 0.01) [Stacking Classifier]\n"
     ]
    }
   ],
   "source": [
    "label = ['KNN', 'Random Forest', 'Naive Bayes', 'Stacking Classifier']\n",
    "clf_list = [clf1, clf2, clf3, sclf]\n",
    "gs = gridspec.GridSpec(2, 2)\n",
    "grid = itertools.product([0,1],repeat=2)\n",
    "clf_cv_mean = []\n",
    "clf_cv_std = []\n",
    "for clf, label, grd in zip(clf_list, label, grid):\n",
    "    scores = cross_val_score(clf, X_array, yf_rus, cv=3, scoring='accuracy')\n",
    "    print(\"Accuracy: %.2f (+/- %.2f) [%s]\" %(scores.mean(), scores.std(), label))"
   ]
  },
  {
   "cell_type": "code",
   "execution_count": null,
   "metadata": {},
   "outputs": [],
   "source": []
  },
  {
   "cell_type": "code",
   "execution_count": null,
   "metadata": {},
   "outputs": [],
   "source": []
  },
  {
   "cell_type": "code",
   "execution_count": null,
   "metadata": {},
   "outputs": [],
   "source": []
  }
 ],
 "metadata": {
  "kernelspec": {
   "display_name": "Python 3",
   "language": "python",
   "name": "python3"
  },
  "language_info": {
   "codemirror_mode": {
    "name": "ipython",
    "version": 3
   },
   "file_extension": ".py",
   "mimetype": "text/x-python",
   "name": "python",
   "nbconvert_exporter": "python",
   "pygments_lexer": "ipython3",
   "version": "3.7.4"
  }
 },
 "nbformat": 4,
 "nbformat_minor": 2
}
